{
 "cells": [
  {
   "cell_type": "code",
   "execution_count": 22,
   "id": "6b42651f-5edc-4ce2-9404-74bf7fb62843",
   "metadata": {},
   "outputs": [
    {
     "name": "stderr",
     "output_type": "stream",
     "text": [
      "No sentence-transformers model found with name bert-base-cased. Creating a new one with mean pooling.\n",
      "/usr/local/lib/python3.10/dist-packages/huggingface_hub/file_download.py:1132: FutureWarning: `resume_download` is deprecated and will be removed in version 1.0.0. Downloads always resume when possible. If you want to force a new download, use `force_download=True`.\n",
      "  warnings.warn(\n"
     ]
    }
   ],
   "source": [
    "from sentence_transformers import SentenceTransformer, util\n",
    "\n",
    "# model_path = 'bertmodel'\n",
    "model_path = 'bert-base-cased'\n",
    "\n",
    "model = SentenceTransformer(model_path)\n"
   ]
  },
  {
   "cell_type": "code",
   "execution_count": 80,
   "id": "b1563d45-364f-4d66-b544-58810512bfd9",
   "metadata": {},
   "outputs": [],
   "source": [
    "import torch\n",
    "from transformers import BertTokenizer, BertModel\n",
    "import numpy as np\n",
    "\n",
    "model_name = 'bert-base-uncased'\n",
    "tokenizer = BertTokenizer.from_pretrained(model_name)\n",
    "model = BertModel.from_pretrained(model_name, output_attentions=True)\n",
    "\n"
   ]
  },
  {
   "cell_type": "code",
   "execution_count": 100,
   "id": "213b1f10-3401-4e94-ab4d-e077e9cb6fd7",
   "metadata": {},
   "outputs": [
    {
     "data": {
      "text/html": [
       "<span style='background-color: rgba(255, 0, 0, 0.008149600587785244)'>we</span> <span style='background-color: rgba(255, 0, 0, 0.0123977055773139)'>propose</span> <span style='background-color: rgba(255, 0, 0, 0.008879104629158974)'>a</span> <span style='background-color: rgba(255, 0, 0, 0.01185359712690115)'>long</span> <span style='background-color: rgba(255, 0, 0, 0.007691066712141037)'>-</span> <span style='background-color: rgba(255, 0, 0, 0.0036758522037416697)'>term</span> <span style='background-color: rgba(255, 0, 0, 0.014056028798222542)'>memory</span> <span style='background-color: rgba(255, 0, 0, 0.008798906579613686)'>design</span> <span style='background-color: rgba(255, 0, 0, 0.014633623883128166)'>for</span> <span style='background-color: rgba(255, 0, 0, 0.01265828125178814)'>artificial</span> <span style='background-color: rgba(255, 0, 0, 0.001079045468941331)'>general</span> <span style='background-color: rgba(255, 0, 0, 0.010769667103886604)'>intelligence</span> <span style='background-color: rgba(255, 0, 0, 0.007441132329404354)'>based</span> <span style='background-color: rgba(255, 0, 0, 0.014125177636742592)'>on</span> <span style='background-color: rgba(255, 0, 0, 0.0106559619307518)'>person</span> <span style='background-color: rgba(255, 0, 0, 0.0062389979138970375)'>'</span> <span style='background-color: rgba(255, 0, 0, 0.004663361236453056)'>s</span> <span style='background-color: rgba(255, 0, 0, 0.004980670288205147)'>inc</span> <span style='background-color: rgba(255, 0, 0, 0.00323225324973464)'>##rem</span> <span style='background-color: rgba(255, 0, 0, 0.012913155369460583)'>##ental</span> <span style='background-color: rgba(255, 0, 0, 0.005739726126194)'>machine</span> <span style='background-color: rgba(255, 0, 0, 0.012538749724626541)'>learning</span> <span style='background-color: rgba(255, 0, 0, 0.0023468828294426203)'>methods</span> <span style='background-color: rgba(255, 0, 0, 0.7427991628646851)'>.</span> <span style='background-color: rgba(255, 0, 0, 0.00430125929415226)'>we</span> <span style='background-color: rgba(255, 0, 0, 0.009022783488035202)'>use</span> <span style='background-color: rgba(255, 0, 0, 0.011117992922663689)'>r</span> <span style='background-color: rgba(255, 0, 0, 0.018368134275078773)'>##5</span> <span style='background-color: rgba(255, 0, 0, 0.014770079404115677)'>##rs</span> <span style='background-color: rgba(255, 0, 0, 0.015766240656375885)'>scheme</span> <span style='background-color: rgba(255, 0, 0, 0.023004157468676567)'>and</span> <span style='background-color: rgba(255, 0, 0, 0.01660759188234806)'>its</span> <span style='background-color: rgba(255, 0, 0, 0.013098669238388538)'>standard</span> <span style='background-color: rgba(255, 0, 0, 0.018639888614416122)'>library</span> <span style='background-color: rgba(255, 0, 0, 0.02824135683476925)'>with</span> <span style='background-color: rgba(255, 0, 0, 0.01176354382187128)'>a</span> <span style='background-color: rgba(255, 0, 0, 0.016495123505592346)'>few</span> <span style='background-color: rgba(255, 0, 0, 0.00719469366595149)'>om</span> <span style='background-color: rgba(255, 0, 0, 0.0019191179890185595)'>##iss</span> <span style='background-color: rgba(255, 0, 0, 0.013232740573585033)'>##ions</span> <span style='background-color: rgba(255, 0, 0, 0.01920882984995842)'>as</span> <span style='background-color: rgba(255, 0, 0, 0.00931503064930439)'>the</span> <span style='background-color: rgba(255, 0, 0, 0.009746802039444447)'>reference</span> <span style='background-color: rgba(255, 0, 0, 0.013559690676629543)'>machine</span> <span style='background-color: rgba(255, 0, 0, 0.9156304597854614)'>.</span> <span style='background-color: rgba(255, 0, 0, 0.0077034286223351955)'>we</span> <span style='background-color: rgba(255, 0, 0, 0.019907575100660324)'>introduce</span> <span style='background-color: rgba(255, 0, 0, 0.011463346891105175)'>a</span> <span style='background-color: rgba(255, 0, 0, 0.006716850213706493)'>person</span> <span style='background-color: rgba(255, 0, 0, 0.020600901916623116)'>variant</span> <span style='background-color: rgba(255, 0, 0, 0.005400503054261208)'>based</span> <span style='background-color: rgba(255, 0, 0, 0.017117565497756004)'>on</span> <span style='background-color: rgba(255, 0, 0, 0.02097936160862446)'>org</span> <span style='background-color: rgba(255, 0, 0, 0.01161869801580906)'>together</span> <span style='background-color: rgba(255, 0, 0, 0.012119945138692856)'>with</span> <span style='background-color: rgba(255, 0, 0, 0.010858960449695587)'>cardinal</span> <span style='background-color: rgba(255, 0, 0, 0.011931641027331352)'>syn</span> <span style='background-color: rgba(255, 0, 0, 0.005659507121890783)'>##er</span> <span style='background-color: rgba(255, 0, 0, 0.0057706767693161964)'>##gist</span> <span style='background-color: rgba(255, 0, 0, 0.011266953311860561)'>##ic</span> <span style='background-color: rgba(255, 0, 0, 0.008749157190322876)'>update</span> <span style='background-color: rgba(255, 0, 0, 0.013675063848495483)'>algorithms</span> <span style='background-color: rgba(255, 0, 0, 0.01582210510969162)'>that</span> <span style='background-color: rgba(255, 0, 0, 0.010068708099424839)'>use</span> <span style='background-color: rgba(255, 0, 0, 0.008271593600511551)'>the</span> <span style='background-color: rgba(255, 0, 0, 0.018291518092155457)'>same</span> <span style='background-color: rgba(255, 0, 0, 0.022391725331544876)'>grammar</span> <span style='background-color: rgba(255, 0, 0, 0.016564397141337395)'>as</span> <span style='background-color: rgba(255, 0, 0, 0.013636755757033825)'>a</span> <span style='background-color: rgba(255, 0, 0, 0.004684656858444214)'>guiding</span> <span style='background-color: rgba(255, 0, 0, 0.009676861576735973)'>probability</span> <span style='background-color: rgba(255, 0, 0, 0.019065329805016518)'>distribution</span> <span style='background-color: rgba(255, 0, 0, 0.01846192590892315)'>of</span> <span style='background-color: rgba(255, 0, 0, 0.01709563285112381)'>programs</span> <span style='background-color: rgba(255, 0, 0, 0.9957712888717651)'>.</span> <span style='background-color: rgba(255, 0, 0, 0.008908720687031746)'>the</span> <span style='background-color: rgba(255, 0, 0, 0.01387374009937048)'>update</span> <span style='background-color: rgba(255, 0, 0, 0.008028858341276646)'>algorithms</span> <span style='background-color: rgba(255, 0, 0, 0.030970990657806396)'>include</span> <span style='background-color: rgba(255, 0, 0, 0.01391364075243473)'>adjusting</span> <span style='background-color: rgba(255, 0, 0, 0.00861749704927206)'>production</span> <span style='background-color: rgba(255, 0, 0, 0.009488790296018124)'>pro</span> <span style='background-color: rgba(255, 0, 0, 0.00476471334695816)'>##ba</span> <span style='background-color: rgba(255, 0, 0, 0.017195098102092743)'>##bilities</span> <span style='background-color: rgba(255, 0, 0, 0.010762487538158894)'>,</span> <span style='background-color: rgba(255, 0, 0, 0.007592711132019758)'>re</span> <span style='background-color: rgba(255, 0, 0, 0.014950360171496868)'>-</span> <span style='background-color: rgba(255, 0, 0, 0.011201752349734306)'>using</span> <span style='background-color: rgba(255, 0, 0, 0.009818037040531635)'>previous</span> <span style='background-color: rgba(255, 0, 0, 0.022087695077061653)'>solutions</span> <span style='background-color: rgba(255, 0, 0, 0.007909886538982391)'>,</span> <span style='background-color: rgba(255, 0, 0, 0.005385448690503836)'>learning</span> <span style='background-color: rgba(255, 0, 0, 0.01463047880679369)'>programming</span> <span style='background-color: rgba(255, 0, 0, 0.003274869406595826)'>id</span> <span style='background-color: rgba(255, 0, 0, 0.018961921334266663)'>##ioms</span> <span style='background-color: rgba(255, 0, 0, 0.01729413866996765)'>and</span> <span style='background-color: rgba(255, 0, 0, 0.01608165167272091)'>discovery</span> <span style='background-color: rgba(255, 0, 0, 0.014883634634315968)'>of</span> <span style='background-color: rgba(255, 0, 0, 0.012914243154227734)'>frequent</span> <span style='background-color: rgba(255, 0, 0, 0.01654268428683281)'>sub</span> <span style='background-color: rgba(255, 0, 0, 0.008842977695167065)'>##pro</span> <span style='background-color: rgba(255, 0, 0, 0.011207318864762783)'>##gram</span> <span style='background-color: rgba(255, 0, 0, 0.011300460435450077)'>##s</span> <span style='background-color: rgba(255, 0, 0, 0.9929603934288025)'>.</span> <span style='background-color: rgba(255, 0, 0, 0.004272778518497944)'>experiments</span> <span style='background-color: rgba(255, 0, 0, 0.006975828669965267)'>with</span> <span style='background-color: rgba(255, 0, 0, 0.0066630300134420395)'>cardinal</span> <span style='background-color: rgba(255, 0, 0, 0.006598457228392363)'>training</span> <span style='background-color: rgba(255, 0, 0, 0.007816565223038197)'>sequences</span> <span style='background-color: rgba(255, 0, 0, 0.008967708796262741)'>demonstrate</span> <span style='background-color: rgba(255, 0, 0, 0.004289429634809494)'>that</span> <span style='background-color: rgba(255, 0, 0, 0.004378334619104862)'>our</span> <span style='background-color: rgba(255, 0, 0, 0.00423798244446516)'>approach</span> <span style='background-color: rgba(255, 0, 0, 0.007158314809203148)'>to</span> <span style='background-color: rgba(255, 0, 0, 0.0010682601714506745)'>inc</span> <span style='background-color: rgba(255, 0, 0, 0.0024380527902394533)'>##rem</span> <span style='background-color: rgba(255, 0, 0, 0.013880056329071522)'>##ental</span> <span style='background-color: rgba(255, 0, 0, 0.009249807335436344)'>learning</span> <span style='background-color: rgba(255, 0, 0, 0.0019694759976118803)'>is</span> <span style='background-color: rgba(255, 0, 0, 0.003719300264492631)'>effective</span> <span style='background-color: rgba(255, 0, 0, 0.8183581829071045)'>.</span> <span style='background-color: rgba(255, 0, 0, 0.007434525527060032)'>we</span> <span style='background-color: rgba(255, 0, 0, 0.008976131677627563)'>propose</span> <span style='background-color: rgba(255, 0, 0, 0.008875054307281971)'>that</span> <span style='background-color: rgba(255, 0, 0, 0.018362021073698997)'>person</span> <span style='background-color: rgba(255, 0, 0, 0.02072492241859436)'>induction</span> <span style='background-color: rgba(255, 0, 0, 0.015472760424017906)'>is</span> <span style='background-color: rgba(255, 0, 0, 0.00920032523572445)'>complete</span> <span style='background-color: rgba(255, 0, 0, 0.007413413375616074)'>in</span> <span style='background-color: rgba(255, 0, 0, 0.0038282941095530987)'>the</span> <span style='background-color: rgba(255, 0, 0, 0.0026764648500829935)'>physical</span> <span style='background-color: rgba(255, 0, 0, 0.009259821847081184)'>sense</span> <span style='background-color: rgba(255, 0, 0, 0.025667542591691017)'>via</span> <span style='background-color: rgba(255, 0, 0, 0.030282801017165184)'>several</span> <span style='background-color: rgba(255, 0, 0, 0.007791036739945412)'>strong</span> <span style='background-color: rgba(255, 0, 0, 0.003969772718846798)'>physical</span> <span style='background-color: rgba(255, 0, 0, 0.006047907751053572)'>arguments</span> <span style='background-color: rgba(255, 0, 0, 0.7825050950050354)'>.</span> <span style='background-color: rgba(255, 0, 0, 0.002203797921538353)'>we</span> <span style='background-color: rgba(255, 0, 0, 0.007038621231913567)'>also</span> <span style='background-color: rgba(255, 0, 0, 0.00482581602409482)'>argue</span> <span style='background-color: rgba(255, 0, 0, 0.008941098116338253)'>that</span> <span style='background-color: rgba(255, 0, 0, 0.018212703987956047)'>person</span> <span style='background-color: rgba(255, 0, 0, 0.01610526628792286)'>induction</span> <span style='background-color: rgba(255, 0, 0, 0.006136507727205753)'>is</span> <span style='background-color: rgba(255, 0, 0, 0.004230181220918894)'>fully</span> <span style='background-color: rgba(255, 0, 0, 0.004681716673076153)'>applicable</span> <span style='background-color: rgba(255, 0, 0, 0.019412731751799583)'>to</span> <span style='background-color: rgba(255, 0, 0, 0.010307539254426956)'>quantum</span> <span style='background-color: rgba(255, 0, 0, 0.0059647285379469395)'>mechanics</span> <span style='background-color: rgba(255, 0, 0, 0.9589464664459229)'>.</span> <span style='background-color: rgba(255, 0, 0, 0.010876956395804882)'>we</span> <span style='background-color: rgba(255, 0, 0, 0.014932192862033844)'>show</span> <span style='background-color: rgba(255, 0, 0, 0.010689095593988895)'>how</span> <span style='background-color: rgba(255, 0, 0, 0.01367559190839529)'>to</span> <span style='background-color: rgba(255, 0, 0, 0.007981165312230587)'>choose</span> <span style='background-color: rgba(255, 0, 0, 0.009326182305812836)'>an</span> <span style='background-color: rgba(255, 0, 0, 0.01445741020143032)'>objective</span> <span style='background-color: rgba(255, 0, 0, 0.011913309805095196)'>reference</span> <span style='background-color: rgba(255, 0, 0, 0.017152825370430946)'>machine</span> <span style='background-color: rgba(255, 0, 0, 0.01687898300588131)'>for</span> <span style='background-color: rgba(255, 0, 0, 0.008838006295263767)'>universal</span> <span style='background-color: rgba(255, 0, 0, 0.012671108357608318)'>induction</span> <span style='background-color: rgba(255, 0, 0, 0.026056641712784767)'>by</span> <span style='background-color: rgba(255, 0, 0, 0.008959717117249966)'>defining</span> <span style='background-color: rgba(255, 0, 0, 0.01385377999395132)'>a</span> <span style='background-color: rgba(255, 0, 0, 0.00631748465821147)'>physical</span> <span style='background-color: rgba(255, 0, 0, 0.007305935490876436)'>message</span> <span style='background-color: rgba(255, 0, 0, 0.018354782834649086)'>complexity</span> <span style='background-color: rgba(255, 0, 0, 0.024155491963028908)'>and</span> <span style='background-color: rgba(255, 0, 0, 0.0054327393881976604)'>physical</span> <span style='background-color: rgba(255, 0, 0, 0.0102993780747056)'>message</span> <span style='background-color: rgba(255, 0, 0, 0.016568101942539215)'>probability</span> <span style='background-color: rgba(255, 0, 0, 0.010157054290175438)'>,</span> <span style='background-color: rgba(255, 0, 0, 0.01337342243641615)'>and</span> <span style='background-color: rgba(255, 0, 0, 0.005937701556831598)'>argue</span> <span style='background-color: rgba(255, 0, 0, 0.004051641095429659)'>that</span> <span style='background-color: rgba(255, 0, 0, 0.022459611296653748)'>this</span> <span style='background-color: rgba(255, 0, 0, 0.012150435708463192)'>choice</span> <span style='background-color: rgba(255, 0, 0, 0.02108132280409336)'>dissolve</span> <span style='background-color: rgba(255, 0, 0, 0.00978606566786766)'>##s</span> <span style='background-color: rgba(255, 0, 0, 0.00863681361079216)'>some</span> <span style='background-color: rgba(255, 0, 0, 0.0025684216525405645)'>well</span> <span style='background-color: rgba(255, 0, 0, 0.00355686922557652)'>-</span> <span style='background-color: rgba(255, 0, 0, 0.001909103011712432)'>known</span> <span style='background-color: rgba(255, 0, 0, 0.007130930665880442)'>objections</span> <span style='background-color: rgba(255, 0, 0, 0.008759689517319202)'>to</span> <span style='background-color: rgba(255, 0, 0, 0.010488892905414104)'>universal</span> <span style='background-color: rgba(255, 0, 0, 0.01020375918596983)'>induction</span> <span style='background-color: rgba(255, 0, 0, 0.9748355746269226)'>.</span> <span style='background-color: rgba(255, 0, 0, 0.00855505745857954)'>we</span> <span style='background-color: rgba(255, 0, 0, 0.014894801191985607)'>also</span> <span style='background-color: rgba(255, 0, 0, 0.018548084422945976)'>introduce</span> <span style='background-color: rgba(255, 0, 0, 0.012928593903779984)'>many</span> <span style='background-color: rgba(255, 0, 0, 0.010576323606073856)'>more</span> <span style='background-color: rgba(255, 0, 0, 0.009827488102018833)'>variants</span> <span style='background-color: rgba(255, 0, 0, 0.012115743942558765)'>of</span> <span style='background-color: rgba(255, 0, 0, 0.007513510063290596)'>physical</span> <span style='background-color: rgba(255, 0, 0, 0.0068666054867208)'>message</span> <span style='background-color: rgba(255, 0, 0, 0.01407045777887106)'>complexity</span> <span style='background-color: rgba(255, 0, 0, 0.009147685952484608)'>based</span> <span style='background-color: rgba(255, 0, 0, 0.009309289045631886)'>on</span> <span style='background-color: rgba(255, 0, 0, 0.01671977899968624)'>energy</span> <span style='background-color: rgba(255, 0, 0, 0.018732482567429543)'>and</span> <span style='background-color: rgba(255, 0, 0, 0.013570413924753666)'>action</span> <span style='background-color: rgba(255, 0, 0, 0.003801414044573903)'>,</span> <span style='background-color: rgba(255, 0, 0, 0.013974875211715698)'>and</span> <span style='background-color: rgba(255, 0, 0, 0.006341818254441023)'>discuss</span> <span style='background-color: rgba(255, 0, 0, 0.0028710677288472652)'>the</span> <span style='background-color: rgba(255, 0, 0, 0.00797056034207344)'>ram</span> <span style='background-color: rgba(255, 0, 0, 0.006307270843535662)'>##ification</span> <span style='background-color: rgba(255, 0, 0, 0.0010625594295561314)'>##s</span> <span style='background-color: rgba(255, 0, 0, 0.0)'>of</span> <span style='background-color: rgba(255, 0, 0, 0.0047945305705070496)'>our</span> <span style='background-color: rgba(255, 0, 0, 0.008575226180255413)'>proposals</span> <span style='background-color: rgba(255, 0, 0, 1.0)'>.</span> "
      ],
      "text/plain": [
       "<IPython.core.display.HTML object>"
      ]
     },
     "metadata": {},
     "output_type": "display_data"
    }
   ],
   "source": [
    "import torch\n",
    "from transformers import BertTokenizer, BertModel\n",
    "import numpy as np\n",
    "import matplotlib.pyplot as plt\n",
    "from IPython.display import display, HTML\n",
    "\n",
    "def load_model():\n",
    "    model_name = 'bert-base-uncased'\n",
    "    tokenizer = BertTokenizer.from_pretrained(model_name)\n",
    "    model = BertModel.from_pretrained(model_name, output_attentions=True)\n",
    "    return model, tokenizer\n",
    "\n",
    "model, tokenizer = load_model()\n",
    "\n",
    "def get_attention_weights(text1, text2):\n",
    "    inputs = tokenizer(text1, text2, return_tensors='pt', truncation=True, padding=True)\n",
    "    outputs = model(**inputs)\n",
    "    attentions = outputs.attentions  \n",
    "    attention = attentions[-1][0] \n",
    "    \n",
    "    attention = attention.mean(dim=0).detach().cpu().numpy()\n",
    "    \n",
    "    attention = attention.mean(axis=0) \n",
    "\n",
    "    attention = (attention - attention.min()) / (attention.max() - attention.min())\n",
    "    \n",
    "    tokens = tokenizer.convert_ids_to_tokens(inputs['input_ids'][0])\n",
    "\n",
    "    filtered_tokens = []\n",
    "    filtered_attention = []\n",
    "    for token, att in zip(tokens, attention):\n",
    "        if token not in ['[CLS]', '[SEP]', '[PAD]']:\n",
    "            filtered_tokens.append(token)\n",
    "            filtered_attention.append(att)\n",
    "\n",
    "    return filtered_tokens, filtered_attention\n",
    "\n",
    "def highlight_text(tokens, attention_weights):\n",
    "    html_text = \"\"\n",
    "    for token, weight in zip(tokens, attention_weights):\n",
    "        color = f\"rgba(255, 0, 0, {weight})\"\n",
    "        html_text += f\"<span style='background-color: {color}'>{token}</span> \"\n",
    "    return html_text\n",
    "\n",
    "text1 = \"We propose a long-term memory design for artificial general intelligence based on PERSON's incremental machine learning methods. We use R5RS Scheme and its standard library with a few omissions as the reference machine. We introduce a PERSON variant based on ORG together with CARDINAL synergistic update algorithms that use the same grammar as a guiding probability distribution of programs. The update algorithms include adjusting production probabilities, re-using previous solutions, learning programming idioms and discovery of frequent subprograms. Experiments with CARDINAL training sequences demonstrate that our approach to incremental learning is effective.\"\n",
    "text2 = \"We propose that PERSON induction is complete in the physical sense via several strong physical arguments. We also argue that PERSON induction is fully applicable to quantum mechanics. We show how to choose an objective reference machine for universal induction by defining a physical message complexity and physical message probability, and argue that this choice dissolves some well-known objections to universal induction. We also introduce many more variants of physical message complexity based on energy and action, and discuss the ramifications of our proposals.\"\n",
    "\n",
    "tokens, attention = get_attention_weights(text1, text2)\n",
    "highlighted_text = highlight_text(tokens, attention)\n",
    "display(HTML(highlighted_text))\n"
   ]
  },
  {
   "cell_type": "code",
   "execution_count": 90,
   "id": "59dce4fe-73ed-4fb4-ac3e-58d2ea488eb6",
   "metadata": {},
   "outputs": [],
   "source": [
    "\n",
    "text1 = \"And today we have the star of the show...\"\n",
    "text2 = \"I propose a path integral description of the Su-Schrieffer-Heeger\\nHamiltonian, both in CARDINAL and CARDINAL dimensions, after mapping the real space model\\nonto the time scale. While the lattice degrees of freedom are classical\\nfunctions of time and are integrated out exactly, the electron particle paths\\nare treated quantum mechanically. The method accounts for the variable range of\\nthe electronic hopping processes. The free energy of the system and its\\ntemperature derivatives are computed by summing at any $MONEY over the ensemble of\\nrelevant particle paths which mainly contribute to the total partition\\nfunction. In the low $T$ regime, the {ORG heat capacity over T} ratio shows ORG\\nupturn peculiar to a glass-like behavior. This feature is more sizeable in the\\nsquare lattice than in the linear chain as the overall hopping potential\\ncontribution to the total action is larger in higher dimensionality. The\\neffects of the electron-phonon anharmonic interactions on the phonon subsystem\\nare studied by the path integral cumulant expansion method.\"\n",
    "\n",
    "inputs = tokenizer(text1, text2, return_tensors='pt', truncation=True, padding=True)\n",
    "\n",
    "# Get the outputs including attentions\n",
    "outputs = model(**inputs)\n",
    "attentions = outputs.attentions  # A list of attention matrices\n",
    "attention = attentions[-1][0]  # Shape: (num_heads, seq_length, seq_length)\n",
    "attention = attention.mean(dim=0).sum(dim=0).detach().cpu().numpy()  # Shape: (seq_length,)\n",
    "\n",
    "# Get tokenized input tokens\n",
    "tokens = tokenizer.convert_ids_to_tokens(inputs['input_ids'][0])\n",
    "\n",
    "# Exclude special tokens [CLS], [SEP]\n",
    "token_attention = [(token, att) for token, att in zip(tokens, attention) if token not in ['[CLS]', '[SEP]', '[PAD]']]\n",
    "tokens, attention = zip(*token_attention)\n",
    "\n",
    "# Normalize the attention weights\n",
    "attention = np.array(attention)\n",
    "attention = (attention - attention.min()) / (attention.max() - attention.min())\n"
   ]
  },
  {
   "cell_type": "code",
   "execution_count": 91,
   "id": "7e0e22d4-a8d1-4325-bb2e-6597ae5b635d",
   "metadata": {},
   "outputs": [
    {
     "data": {
      "text/html": [
       "<span style='background-color: rgba(255, 0, 0, 0.014574938453733921)'>and</span> <span style='background-color: rgba(255, 0, 0, 0.018124070018529892)'>today</span> <span style='background-color: rgba(255, 0, 0, 0.015323607251048088)'>we</span> <span style='background-color: rgba(255, 0, 0, 0.01315245870500803)'>have</span> <span style='background-color: rgba(255, 0, 0, 0.013829213567078114)'>the</span> <span style='background-color: rgba(255, 0, 0, 0.015991274267435074)'>star</span> <span style='background-color: rgba(255, 0, 0, 0.006459515541791916)'>of</span> <span style='background-color: rgba(255, 0, 0, 0.010060765780508518)'>the</span> <span style='background-color: rgba(255, 0, 0, 0.01848258450627327)'>show</span> <span style='background-color: rgba(255, 0, 0, 0.012197167612612247)'>.</span> <span style='background-color: rgba(255, 0, 0, 0.01474841684103012)'>.</span> <span style='background-color: rgba(255, 0, 0, 0.011826945468783379)'>.</span> <span style='background-color: rgba(255, 0, 0, 0.018859505653381348)'>i</span> <span style='background-color: rgba(255, 0, 0, 0.006773354019969702)'>propose</span> <span style='background-color: rgba(255, 0, 0, 0.01083469856530428)'>a</span> <span style='background-color: rgba(255, 0, 0, 0.005106911063194275)'>path</span> <span style='background-color: rgba(255, 0, 0, 0.008087866008281708)'>integral</span> <span style='background-color: rgba(255, 0, 0, 0.008683727122843266)'>description</span> <span style='background-color: rgba(255, 0, 0, 0.006014027167111635)'>of</span> <span style='background-color: rgba(255, 0, 0, 0.0117440614849329)'>the</span> <span style='background-color: rgba(255, 0, 0, 0.0064881667494773865)'>su</span> <span style='background-color: rgba(255, 0, 0, 0.012631140649318695)'>-</span> <span style='background-color: rgba(255, 0, 0, 0.004206019453704357)'>sc</span> <span style='background-color: rgba(255, 0, 0, 0.004670155234634876)'>##hri</span> <span style='background-color: rgba(255, 0, 0, 0.008847280405461788)'>##ef</span> <span style='background-color: rgba(255, 0, 0, 0.01063571684062481)'>##fer</span> <span style='background-color: rgba(255, 0, 0, 0.015086586587131023)'>-</span> <span style='background-color: rgba(255, 0, 0, 0.010862298309803009)'>hee</span> <span style='background-color: rgba(255, 0, 0, 0.008576405234634876)'>##ger</span> <span style='background-color: rgba(255, 0, 0, 0.01864752359688282)'>hamilton</span> <span style='background-color: rgba(255, 0, 0, 0.02249479852616787)'>##ian</span> <span style='background-color: rgba(255, 0, 0, 0.01050914078950882)'>,</span> <span style='background-color: rgba(255, 0, 0, 0.025135859847068787)'>both</span> <span style='background-color: rgba(255, 0, 0, 0.0056626745499670506)'>in</span> <span style='background-color: rgba(255, 0, 0, 0.004720810800790787)'>cardinal</span> <span style='background-color: rgba(255, 0, 0, 0.009044699370861053)'>and</span> <span style='background-color: rgba(255, 0, 0, 0.001360564841888845)'>cardinal</span> <span style='background-color: rgba(255, 0, 0, 0.015493037179112434)'>dimensions</span> <span style='background-color: rgba(255, 0, 0, 0.7511492371559143)'>,</span> <span style='background-color: rgba(255, 0, 0, 0.016079796478152275)'>after</span> <span style='background-color: rgba(255, 0, 0, 0.010281255468726158)'>mapping</span> <span style='background-color: rgba(255, 0, 0, 0.01206835638731718)'>the</span> <span style='background-color: rgba(255, 0, 0, 0.005804967600852251)'>real</span> <span style='background-color: rgba(255, 0, 0, 0.005651053041219711)'>space</span> <span style='background-color: rgba(255, 0, 0, 0.011813762597739697)'>model</span> <span style='background-color: rgba(255, 0, 0, 0.030135387554764748)'>onto</span> <span style='background-color: rgba(255, 0, 0, 0.007858077995479107)'>the</span> <span style='background-color: rgba(255, 0, 0, 0.002386901993304491)'>time</span> <span style='background-color: rgba(255, 0, 0, 0.012955490499734879)'>scale</span> <span style='background-color: rgba(255, 0, 0, 1.0)'>.</span> <span style='background-color: rgba(255, 0, 0, 0.020399250090122223)'>while</span> <span style='background-color: rgba(255, 0, 0, 0.009863294661045074)'>the</span> <span style='background-color: rgba(255, 0, 0, 0.0172639898955822)'>lattice</span> <span style='background-color: rgba(255, 0, 0, 0.01608499325811863)'>degrees</span> <span style='background-color: rgba(255, 0, 0, 0.007079874165356159)'>of</span> <span style='background-color: rgba(255, 0, 0, 0.012690182775259018)'>freedom</span> <span style='background-color: rgba(255, 0, 0, 0.013820608146488667)'>are</span> <span style='background-color: rgba(255, 0, 0, 0.01086223404854536)'>classical</span> <span style='background-color: rgba(255, 0, 0, 0.012541087344288826)'>functions</span> <span style='background-color: rgba(255, 0, 0, 0.009051994420588017)'>of</span> <span style='background-color: rgba(255, 0, 0, 0.007390123326331377)'>time</span> <span style='background-color: rgba(255, 0, 0, 0.012862436473369598)'>and</span> <span style='background-color: rgba(255, 0, 0, 0.010798306204378605)'>are</span> <span style='background-color: rgba(255, 0, 0, 0.015970826148986816)'>integrated</span> <span style='background-color: rgba(255, 0, 0, 0.01589146815240383)'>out</span> <span style='background-color: rgba(255, 0, 0, 0.019931649789214134)'>exactly</span> <span style='background-color: rgba(255, 0, 0, 0.6317988634109497)'>,</span> <span style='background-color: rgba(255, 0, 0, 0.011221623979508877)'>the</span> <span style='background-color: rgba(255, 0, 0, 0.014741208404302597)'>electron</span> <span style='background-color: rgba(255, 0, 0, 0.011589338071644306)'>particle</span> <span style='background-color: rgba(255, 0, 0, 0.019064536318182945)'>paths</span> <span style='background-color: rgba(255, 0, 0, 0.0068818265572190285)'>are</span> <span style='background-color: rgba(255, 0, 0, 0.011519639752805233)'>treated</span> <span style='background-color: rgba(255, 0, 0, 0.01503293588757515)'>quantum</span> <span style='background-color: rgba(255, 0, 0, 0.006839237175881863)'>mechanically</span> <span style='background-color: rgba(255, 0, 0, 0.9690097570419312)'>.</span> <span style='background-color: rgba(255, 0, 0, 0.0057312618009746075)'>the</span> <span style='background-color: rgba(255, 0, 0, 0.009584478102624416)'>method</span> <span style='background-color: rgba(255, 0, 0, 0.00918949581682682)'>accounts</span> <span style='background-color: rgba(255, 0, 0, 0.007594526279717684)'>for</span> <span style='background-color: rgba(255, 0, 0, 0.007501850835978985)'>the</span> <span style='background-color: rgba(255, 0, 0, 0.015007322654128075)'>variable</span> <span style='background-color: rgba(255, 0, 0, 0.019380129873752594)'>range</span> <span style='background-color: rgba(255, 0, 0, 0.011457840912044048)'>of</span> <span style='background-color: rgba(255, 0, 0, 0.011067836545407772)'>the</span> <span style='background-color: rgba(255, 0, 0, 0.00853554718196392)'>electronic</span> <span style='background-color: rgba(255, 0, 0, 0.0072069126181304455)'>hopping</span> <span style='background-color: rgba(255, 0, 0, 0.007620540913194418)'>processes</span> <span style='background-color: rgba(255, 0, 0, 0.9046632647514343)'>.</span> <span style='background-color: rgba(255, 0, 0, 0.009719155728816986)'>the</span> <span style='background-color: rgba(255, 0, 0, 0.009382752701640129)'>free</span> <span style='background-color: rgba(255, 0, 0, 0.02546098828315735)'>energy</span> <span style='background-color: rgba(255, 0, 0, 0.011239297688007355)'>of</span> <span style='background-color: rgba(255, 0, 0, 0.009820443578064442)'>the</span> <span style='background-color: rgba(255, 0, 0, 0.01721145771443844)'>system</span> <span style='background-color: rgba(255, 0, 0, 0.025563975796103477)'>and</span> <span style='background-color: rgba(255, 0, 0, 0.015753306448459625)'>its</span> <span style='background-color: rgba(255, 0, 0, 0.02017974480986595)'>temperature</span> <span style='background-color: rgba(255, 0, 0, 0.029224248602986336)'>derivatives</span> <span style='background-color: rgba(255, 0, 0, 0.020161306485533714)'>are</span> <span style='background-color: rgba(255, 0, 0, 0.01476252917200327)'>computed</span> <span style='background-color: rgba(255, 0, 0, 0.024806803092360497)'>by</span> <span style='background-color: rgba(255, 0, 0, 0.017499130219221115)'>sum</span> <span style='background-color: rgba(255, 0, 0, 0.011759687215089798)'>##ming</span> <span style='background-color: rgba(255, 0, 0, 0.01880366913974285)'>at</span> <span style='background-color: rgba(255, 0, 0, 0.023676790297031403)'>any</span> <span style='background-color: rgba(255, 0, 0, 0.016480112448334694)'>$</span> <span style='background-color: rgba(255, 0, 0, 0.015347747132182121)'>money</span> <span style='background-color: rgba(255, 0, 0, 0.03340407460927963)'>over</span> <span style='background-color: rgba(255, 0, 0, 0.017500268295407295)'>the</span> <span style='background-color: rgba(255, 0, 0, 0.014390642754733562)'>ensemble</span> <span style='background-color: rgba(255, 0, 0, 0.015030610375106335)'>of</span> <span style='background-color: rgba(255, 0, 0, 0.020087439566850662)'>relevant</span> <span style='background-color: rgba(255, 0, 0, 0.011881459504365921)'>particle</span> <span style='background-color: rgba(255, 0, 0, 0.012972788885235786)'>paths</span> <span style='background-color: rgba(255, 0, 0, 0.016351696103811264)'>which</span> <span style='background-color: rgba(255, 0, 0, 0.014611240476369858)'>mainly</span> <span style='background-color: rgba(255, 0, 0, 0.004660713952034712)'>contribute</span> <span style='background-color: rgba(255, 0, 0, 0.012844244949519634)'>to</span> <span style='background-color: rgba(255, 0, 0, 0.008624814450740814)'>the</span> <span style='background-color: rgba(255, 0, 0, 0.003941894508898258)'>total</span> <span style='background-color: rgba(255, 0, 0, 0.004738279618322849)'>partition</span> <span style='background-color: rgba(255, 0, 0, 0.007814453914761543)'>function</span> <span style='background-color: rgba(255, 0, 0, 0.8755939602851868)'>.</span> <span style='background-color: rgba(255, 0, 0, 0.01001649908721447)'>in</span> <span style='background-color: rgba(255, 0, 0, 0.005894332658499479)'>the</span> <span style='background-color: rgba(255, 0, 0, 0.007253790274262428)'>low</span> <span style='background-color: rgba(255, 0, 0, 0.013437850400805473)'>$</span> <span style='background-color: rgba(255, 0, 0, 0.011477301828563213)'>t</span> <span style='background-color: rgba(255, 0, 0, 0.014715022407472134)'>$</span> <span style='background-color: rgba(255, 0, 0, 0.008082998916506767)'>regime</span> <span style='background-color: rgba(255, 0, 0, 0.0)'>,</span> <span style='background-color: rgba(255, 0, 0, 0.013010679744184017)'>the</span> <span style='background-color: rgba(255, 0, 0, 0.03738038241863251)'>{</span> <span style='background-color: rgba(255, 0, 0, 0.00829288549721241)'>org</span> <span style='background-color: rgba(255, 0, 0, 0.01800212450325489)'>heat</span> <span style='background-color: rgba(255, 0, 0, 0.022679371759295464)'>capacity</span> <span style='background-color: rgba(255, 0, 0, 0.02066839672625065)'>over</span> <span style='background-color: rgba(255, 0, 0, 0.012943239882588387)'>t</span> <span style='background-color: rgba(255, 0, 0, 0.005825307220220566)'>}</span> <span style='background-color: rgba(255, 0, 0, 0.014528259634971619)'>ratio</span> <span style='background-color: rgba(255, 0, 0, 0.021837180480360985)'>shows</span> <span style='background-color: rgba(255, 0, 0, 0.007608630694448948)'>org</span> <span style='background-color: rgba(255, 0, 0, 0.011292258277535439)'>up</span> <span style='background-color: rgba(255, 0, 0, 0.00665052467957139)'>##turn</span> <span style='background-color: rgba(255, 0, 0, 0.008724227547645569)'>peculiar</span> <span style='background-color: rgba(255, 0, 0, 0.025235066190361977)'>to</span> <span style='background-color: rgba(255, 0, 0, 0.01736290007829666)'>a</span> <span style='background-color: rgba(255, 0, 0, 0.01267357636243105)'>glass</span> <span style='background-color: rgba(255, 0, 0, 0.006149821449071169)'>-</span> <span style='background-color: rgba(255, 0, 0, 0.01209516916424036)'>like</span> <span style='background-color: rgba(255, 0, 0, 0.012874562293291092)'>behavior</span> <span style='background-color: rgba(255, 0, 0, 0.877727210521698)'>.</span> <span style='background-color: rgba(255, 0, 0, 0.009768521413207054)'>this</span> <span style='background-color: rgba(255, 0, 0, 0.008793136104941368)'>feature</span> <span style='background-color: rgba(255, 0, 0, 0.007278864737600088)'>is</span> <span style='background-color: rgba(255, 0, 0, 0.006406045518815517)'>more</span> <span style='background-color: rgba(255, 0, 0, 0.007713841740041971)'>size</span> <span style='background-color: rgba(255, 0, 0, 0.005662272684276104)'>##able</span> <span style='background-color: rgba(255, 0, 0, 0.012514307163655758)'>in</span> <span style='background-color: rgba(255, 0, 0, 0.0065465206280350685)'>the</span> <span style='background-color: rgba(255, 0, 0, 0.006185960490256548)'>square</span> <span style='background-color: rgba(255, 0, 0, 0.017118388786911964)'>lattice</span> <span style='background-color: rgba(255, 0, 0, 0.01573999598622322)'>than</span> <span style='background-color: rgba(255, 0, 0, 0.010803421959280968)'>in</span> <span style='background-color: rgba(255, 0, 0, 0.007900848053395748)'>the</span> <span style='background-color: rgba(255, 0, 0, 0.005884456913918257)'>linear</span> <span style='background-color: rgba(255, 0, 0, 0.015981584787368774)'>chain</span> <span style='background-color: rgba(255, 0, 0, 0.017553025856614113)'>as</span> <span style='background-color: rgba(255, 0, 0, 0.012693253345787525)'>the</span> <span style='background-color: rgba(255, 0, 0, 0.0031056145671755075)'>overall</span> <span style='background-color: rgba(255, 0, 0, 0.01332585234194994)'>hopping</span> <span style='background-color: rgba(255, 0, 0, 0.013096959330141544)'>potential</span> <span style='background-color: rgba(255, 0, 0, 0.006411782931536436)'>contribution</span> <span style='background-color: rgba(255, 0, 0, 0.012407451868057251)'>to</span> <span style='background-color: rgba(255, 0, 0, 0.01007148064672947)'>the</span> <span style='background-color: rgba(255, 0, 0, 0.005049102008342743)'>total</span> <span style='background-color: rgba(255, 0, 0, 0.007984848693013191)'>action</span> <span style='background-color: rgba(255, 0, 0, 0.010709061287343502)'>is</span> <span style='background-color: rgba(255, 0, 0, 0.014751342125236988)'>larger</span> <span style='background-color: rgba(255, 0, 0, 0.012132130563259125)'>in</span> <span style='background-color: rgba(255, 0, 0, 0.00809614546597004)'>higher</span> <span style='background-color: rgba(255, 0, 0, 0.0030006649903953075)'>dimensional</span> <span style='background-color: rgba(255, 0, 0, 0.004032148979604244)'>##ity</span> <span style='background-color: rgba(255, 0, 0, 0.9618006944656372)'>.</span> <span style='background-color: rgba(255, 0, 0, 0.007780224084854126)'>the</span> <span style='background-color: rgba(255, 0, 0, 0.010254701599478722)'>effects</span> <span style='background-color: rgba(255, 0, 0, 0.008821641094982624)'>of</span> <span style='background-color: rgba(255, 0, 0, 0.013591419905424118)'>the</span> <span style='background-color: rgba(255, 0, 0, 0.016314970329403877)'>electron</span> <span style='background-color: rgba(255, 0, 0, 0.015493230894207954)'>-</span> <span style='background-color: rgba(255, 0, 0, 0.005387845914810896)'>ph</span> <span style='background-color: rgba(255, 0, 0, 0.004760020412504673)'>##ono</span> <span style='background-color: rgba(255, 0, 0, 0.010440883226692677)'>##n</span> <span style='background-color: rgba(255, 0, 0, 0.0018236516043543816)'>an</span> <span style='background-color: rgba(255, 0, 0, 0.0015945198247209191)'>##har</span> <span style='background-color: rgba(255, 0, 0, 0.012324470095336437)'>##mon</span> <span style='background-color: rgba(255, 0, 0, 0.012719215825200081)'>##ic</span> <span style='background-color: rgba(255, 0, 0, 0.011339090764522552)'>interactions</span> <span style='background-color: rgba(255, 0, 0, 0.012411916628479958)'>on</span> <span style='background-color: rgba(255, 0, 0, 0.00814149621874094)'>the</span> <span style='background-color: rgba(255, 0, 0, 0.003404895542189479)'>ph</span> <span style='background-color: rgba(255, 0, 0, 0.007760022301226854)'>##ono</span> <span style='background-color: rgba(255, 0, 0, 0.012905390001833439)'>##n</span> <span style='background-color: rgba(255, 0, 0, 0.012016811408102512)'>sub</span> <span style='background-color: rgba(255, 0, 0, 0.008461600169539452)'>##sy</span> <span style='background-color: rgba(255, 0, 0, 0.008740764111280441)'>##ste</span> <span style='background-color: rgba(255, 0, 0, 0.013886459171772003)'>##m</span> <span style='background-color: rgba(255, 0, 0, 0.011212551966309547)'>are</span> <span style='background-color: rgba(255, 0, 0, 0.017513670027256012)'>studied</span> <span style='background-color: rgba(255, 0, 0, 0.01280860137194395)'>by</span> <span style='background-color: rgba(255, 0, 0, 0.01194133423268795)'>the</span> <span style='background-color: rgba(255, 0, 0, 0.006064312998205423)'>path</span> <span style='background-color: rgba(255, 0, 0, 0.00951546523720026)'>integral</span> <span style='background-color: rgba(255, 0, 0, 0.0036411751061677933)'>cum</span> <span style='background-color: rgba(255, 0, 0, 0.00749083049595356)'>##ula</span> <span style='background-color: rgba(255, 0, 0, 0.013638676144182682)'>##nt</span> <span style='background-color: rgba(255, 0, 0, 0.019186899065971375)'>expansion</span> <span style='background-color: rgba(255, 0, 0, 0.015605302527546883)'>method</span> <span style='background-color: rgba(255, 0, 0, 0.9427490830421448)'>.</span> "
      ],
      "text/plain": [
       "<IPython.core.display.HTML object>"
      ]
     },
     "metadata": {},
     "output_type": "display_data"
    }
   ],
   "source": [
    "from IPython.display import display, HTML\n",
    "\n",
    "def highlight_text(tokens, attention_weights):\n",
    "    html_text = \"\"\n",
    "    for token, weight in zip(tokens, attention_weights):\n",
    "        color = f\"rgba(255, 0, 0, {weight})\"\n",
    "        html_text += f\"<span style='background-color: {color}'>{token}</span> \"\n",
    "    return html_text\n",
    "\n",
    "highlighted_text = highlight_text(tokens, attention)\n",
    "display(HTML(highlighted_text))\n"
   ]
  },
  {
   "cell_type": "code",
   "execution_count": 33,
   "id": "1324b65f-fe27-41a6-bfbd-c6f1dfc42e0a",
   "metadata": {},
   "outputs": [],
   "source": [
    "with open('/workspace/testdsets.pickle', 'rb') as f:\n",
    "    test_datasets = pickle.load(f)"
   ]
  },
  {
   "cell_type": "code",
   "execution_count": 34,
   "id": "3eea2fc4-a414-48bc-a5fb-59fa878e1a76",
   "metadata": {},
   "outputs": [
    {
     "name": "stdout",
     "output_type": "stream",
     "text": [
      "Metrics for arxiv:\n",
      "Accuracy: 0.5660377358490566\n",
      "Precision: 0.5660377358490566\n",
      "Recall: 1.0\n",
      "F1 Score: 0.7228915662650602\n",
      "----------------------\n",
      "Metrics for blogs:\n",
      "Accuracy: 0.4986425339366516\n",
      "Precision: 0.49829312699135186\n",
      "Recall: 0.9947751022262608\n",
      "F1 Score: 0.6639878695981805\n",
      "----------------------\n",
      "Metrics for british:\n",
      "Accuracy: 0.5664739884393064\n",
      "Precision: 0.5664739884393064\n",
      "Recall: 1.0\n",
      "F1 Score: 0.7232472324723247\n",
      "----------------------\n",
      "Metrics for darkreddit:\n",
      "Accuracy: 0.5121359223300971\n",
      "Precision: 0.5061425061425061\n",
      "Recall: 1.0\n",
      "F1 Score: 0.6721044045676998\n",
      "----------------------\n",
      "Metrics for imdb:\n",
      "Accuracy: 0.4978485370051635\n",
      "Precision: 0.4978485370051635\n",
      "Recall: 1.0\n",
      "F1 Score: 0.6647515081873026\n",
      "----------------------\n",
      "Metrics for pan11:\n",
      "Accuracy: 0.5257879656160458\n",
      "Precision: 0.5251076040172167\n",
      "Recall: 1.0\n",
      "F1 Score: 0.6886171213546566\n",
      "----------------------\n",
      "Metrics for pan13:\n",
      "Accuracy: 0.4444444444444444\n",
      "Precision: 0.4444444444444444\n",
      "Recall: 1.0\n",
      "F1 Score: 0.6153846153846154\n",
      "----------------------\n",
      "Metrics for pan14:\n",
      "Accuracy: 0.5\n",
      "Precision: 0.5\n",
      "Recall: 1.0\n",
      "F1 Score: 0.6666666666666666\n",
      "----------------------\n",
      "Metrics for pan15:\n",
      "Accuracy: 0.53\n",
      "Precision: 0.53\n",
      "Recall: 1.0\n",
      "F1 Score: 0.6928104575163399\n",
      "----------------------\n",
      "Metrics for pan20:\n",
      "Accuracy: 0.5001459427904261\n",
      "Precision: 0.5001094650806392\n",
      "Recall: 1.0\n",
      "F1 Score: 0.6667639618602841\n",
      "----------------------\n",
      "Metrics for reuters:\n",
      "Accuracy: 0.49171270718232046\n",
      "Precision: 0.49171270718232046\n",
      "Recall: 1.0\n",
      "F1 Score: 0.6592592592592592\n",
      "----------------------\n",
      "Metrics for victorian:\n",
      "Accuracy: 0.49191542288557216\n",
      "Precision: 0.49191542288557216\n",
      "Recall: 1.0\n",
      "F1 Score: 0.6594414339308045\n",
      "----------------------\n"
     ]
    }
   ],
   "source": [
    "import torch\n",
    "from torch.utils.data import DataLoader, Dataset\n",
    "from sentence_transformers import SentenceTransformer, util\n",
    "from sklearn.metrics import accuracy_score, precision_recall_fscore_support\n",
    "import numpy as np\n",
    "\n",
    "# Define a custom Dataset class\n",
    "class TextDataset(Dataset):\n",
    "    def __init__(self, data):\n",
    "        self.data = data\n",
    "\n",
    "    def __len__(self):\n",
    "        return len(self.data)\n",
    "\n",
    "    def __getitem__(self, idx):\n",
    "        text1 = self.data[idx]['text1']\n",
    "        text2 = self.data[idx]['text2']\n",
    "        label = self.data[idx]['same']\n",
    "        return text1, text2, torch.tensor(label, dtype=torch.float32)\n",
    "\n",
    "# Define the evaluation function\n",
    "def evaluate_model(model, dataloader, threshold=0.5):\n",
    "    model.eval()\n",
    "    all_labels = []\n",
    "    all_scores = []\n",
    "\n",
    "    with torch.no_grad():\n",
    "        for batch in dataloader:\n",
    "            texts1, texts2, labels = batch\n",
    "            embeddings1 = model.encode(texts1, convert_to_tensor=True, show_progress_bar=False)\n",
    "            embeddings2 = model.encode(texts2, convert_to_tensor=True, show_progress_bar=False)\n",
    "            scores = [util.pytorch_cos_sim(e1, e2).item() for e1, e2 in zip(embeddings1, embeddings2)]\n",
    "\n",
    "            all_labels.extend(labels.numpy())  # Convert labels to numpy and extend the list\n",
    "            all_scores.extend(scores)\n",
    "\n",
    "    # Convert to numpy arrays for evaluation\n",
    "    all_labels = np.array(all_labels)\n",
    "    all_scores = np.array(all_scores)\n",
    "\n",
    "    # Binarize the scores based on the threshold\n",
    "    predictions = (all_scores >= threshold).astype(int)\n",
    "\n",
    "    # Calculate metrics\n",
    "    accuracy = accuracy_score(all_labels, predictions)\n",
    "    precision, recall, f1, _ = precision_recall_fscore_support(all_labels, predictions, average='binary')\n",
    "\n",
    "    return accuracy, precision, recall, f1\n",
    "\n",
    "# Example datasets\n",
    "datasets = test_datasets\n",
    "\n",
    "# Convert each dataset into a TextDataset and DataLoader\n",
    "for name, dataset in datasets.items():\n",
    "    text_dataset = TextDataset(dataset)\n",
    "    dataloader = DataLoader(text_dataset, batch_size=16, shuffle=False)\n",
    "    \n",
    "    # # Load your model\n",
    "    # model_path = '/path/to/your/model'  # Replace with your actual model path\n",
    "    # model = SentenceTransformer(model_path)\n",
    "    \n",
    "    # Evaluate the model on the current dataset\n",
    "    accuracy, precision, recall, f1 = evaluate_model(model, dataloader)\n",
    "    \n",
    "    # Print the metrics\n",
    "    print(f\"Metrics for {name}:\")\n",
    "    print(f\"Accuracy: {accuracy}\")\n",
    "    print(f\"Precision: {precision}\")\n",
    "    print(f\"Recall: {recall}\")\n",
    "    print(f\"F1 Score: {f1}\")\n",
    "    print(\"-\" + \"-\"*20 + \"-\")\n"
   ]
  },
  {
   "cell_type": "code",
   "execution_count": 35,
   "id": "5446ea5d-be70-4df4-a0c8-da589f7ae265",
   "metadata": {},
   "outputs": [],
   "source": [
    "with open('/workspace/val.pkl', 'rb') as f:\n",
    "    test = pickle.load(f)"
   ]
  },
  {
   "cell_type": "code",
   "execution_count": 74,
   "id": "311fe72c-b8f5-4a14-a354-7febd8d26981",
   "metadata": {},
   "outputs": [
    {
     "data": {
      "text/plain": [
       "{'text1': 'The thermodynamical stability of DNA minicircles is investigated by means of\\npath integral techniques. ORG bonds between base pairs on complementary\\nstrands can be broken by thermal fluctuations and temporary fluctuational\\nopenings along the double helix are essential to biological functions such as\\ntranscription and replication of the genetic information. Helix unwinding and\\nbubble formation patterns are computed in circular sequences with variable\\nradius in order to analyze the interplay between molecule size and appearance\\nof helical disruptions. The latter are found in minicircles with MONEY$ base\\npairs and appear as a strategy to soften the stress due to the bending and\\ntorsion of the helix.',\n",
       " 'text2': 'I propose a path integral description of the Su-Schrieffer-Heeger\\nHamiltonian, both in CARDINAL and CARDINAL dimensions, after mapping the real space model\\nonto the time scale. While the lattice degrees of freedom are classical\\nfunctions of time and are integrated out exactly, the electron particle paths\\nare treated quantum mechanically. The method accounts for the variable range of\\nthe electronic hopping processes. The free energy of the system and its\\ntemperature derivatives are computed by summing at any $MONEY over the ensemble of\\nrelevant particle paths which mainly contribute to the total partition\\nfunction. In the low $T$ regime, the {ORG heat capacity over T} ratio shows ORG\\nupturn peculiar to a glass-like behavior. This feature is more sizeable in the\\nsquare lattice than in the linear chain as the overall hopping potential\\ncontribution to the total action is larger in higher dimensionality. The\\neffects of the electron-phonon anharmonic interactions on the phonon subsystem\\nare studied by the path integral cumulant expansion method.',\n",
       " 'score': 1}"
      ]
     },
     "execution_count": 74,
     "metadata": {},
     "output_type": "execute_result"
    }
   ],
   "source": [
    "test['train'][0]"
   ]
  },
  {
   "cell_type": "code",
   "execution_count": 38,
   "id": "d2af51b6-59da-4904-9133-ccdb6855b2c2",
   "metadata": {},
   "outputs": [
    {
     "name": "stderr",
     "output_type": "stream",
     "text": [
      "Processing Calibration Data: 100%|██████████| 30781/30781 [22:39<00:00, 22.64it/s]\n"
     ]
    }
   ],
   "source": [
    "import numpy as np\n",
    "from sklearn.linear_model import LinearRegression\n",
    "from sklearn.model_selection import train_test_split\n",
    "from tqdm import tqdm\n",
    "\n",
    "calibration_data = test['train']\n",
    "\n",
    "cosine_scores = []\n",
    "scores = []\n",
    "\n",
    "for data in tqdm(calibration_data, desc=\"Processing Calibration Data\"):\n",
    "    text1 = data[\"text1\"]\n",
    "    text2 = data[\"text2\"]\n",
    "    score = data[\"score\"]\n",
    "    \n",
    "    embedding1 = model.encode(text1, convert_to_tensor=True)\n",
    "    embedding2 = model.encode(text2, convert_to_tensor=True)\n",
    "    \n",
    "    cosine_score = util.pytorch_cos_sim(embedding1, embedding2).item()\n",
    "    \n",
    "    cosine_scores.append(cosine_score)\n",
    "    scores.append(score)\n",
    "\n",
    "cosine_scores = np.array(cosine_scores).reshape(-1, 1)\n",
    "scores = np.array(scores)\n"
   ]
  },
  {
   "cell_type": "code",
   "execution_count": 39,
   "id": "858641f6-4293-4594-9f80-40bf6c360269",
   "metadata": {},
   "outputs": [
    {
     "name": "stderr",
     "output_type": "stream",
     "text": [
      "Evaluating Test Set: 100%|██████████| 6157/6157 [00:00<00:00, 13651.58it/s]"
     ]
    },
    {
     "name": "stdout",
     "output_type": "stream",
     "text": [
      "Test set predictions: [0.5277474  0.46420503 0.38460809 ... 0.54864025 0.45794626 0.48811678]\n"
     ]
    },
    {
     "name": "stderr",
     "output_type": "stream",
     "text": [
      "\n"
     ]
    }
   ],
   "source": [
    "import numpy as np\n",
    "from sklearn.linear_model import LinearRegression\n",
    "from sklearn.model_selection import train_test_split\n",
    "from tqdm import tqdm\n",
    "\n",
    "# Split data into training and testing sets\n",
    "X_train, X_test, y_train, y_test = train_test_split(cosine_scores, scores, test_size=0.2, random_state=42)\n",
    "\n",
    "# Train a linear regression model\n",
    "calibration_model = LinearRegression()\n",
    "calibration_model.fit(X_train, y_train)\n",
    "\n",
    "# Evaluate the model on the test set\n",
    "predictions = []\n",
    "\n",
    "for x in tqdm(X_test, desc=\"Evaluating Test Set\"):\n",
    "    prediction = calibration_model.predict(x.reshape(1, -1))\n",
    "    predictions.append(prediction[0])\n",
    "\n",
    "predictions = np.array(predictions)\n",
    "print(f\"Test set predictions: {predictions}\")"
   ]
  },
  {
   "cell_type": "code",
   "execution_count": 75,
   "id": "62eb5d52-6f70-4c28-a762-8a5b9bbd8835",
   "metadata": {},
   "outputs": [
    {
     "name": "stdout",
     "output_type": "stream",
     "text": [
      "Cosine score: 0.9169589281082153\n",
      "Probability that the output is 1: 0.5131\n"
     ]
    }
   ],
   "source": [
    "def get_similarity_probability(model, text1, text2, calibration_model):\n",
    "    # Encode the texts\n",
    "    embedding1 = model.encode(text1, convert_to_tensor=True)\n",
    "    embedding2 = model.encode(text2, convert_to_tensor=True)\n",
    "    \n",
    "    # Calculate cosine similarity\n",
    "    cosine_score = util.pytorch_cos_sim(embedding1, embedding2).item()\n",
    "    print(f\"Cosine score: {cosine_score}\")\n",
    "    \n",
    "    # Use the calibration model to get the probability\n",
    "    probability = calibration_model.predict(np.array([[cosine_score]]))[0]\n",
    "    \n",
    "    return probability\n",
    "\n",
    "# Example usage\n",
    "text1 = \"The thermodynamical stability of DNA minicircles is investigated by means of\\npath integral techniques. ORG bonds between base pairs on complementary\\nstrands can be broken by thermal fluctuations and temporary fluctuational\\nopenings along the double helix are essential to biological functions such as\\ntranscription and replication of the genetic information. Helix unwinding and\\nbubble formation patterns are computed in circular sequences with variable\\nradius in order to analyze the interplay between molecule size and appearance\\nof helical disruptions. The latter are found in minicircles with MONEY$ base\\npairs and appear as a strategy to soften the stress due to the bending and\\ntorsion of the helix.\"\n",
    "text2 = \"I propose a path integral description of the Su-Schrieffer-Heeger\\nHamiltonian, both in CARDINAL and CARDINAL dimensions, after mapping the real space model\\nonto the time scale. While the lattice degrees of freedom are classical\\nfunctions of time and are integrated out exactly, the electron particle paths\\nare treated quantum mechanically. The method accounts for the variable range of\\nthe electronic hopping processes. The free energy of the system and its\\ntemperature derivatives are computed by summing at any $MONEY over the ensemble of\\nrelevant particle paths which mainly contribute to the total partition\\nfunction. In the low $T$ regime, the {ORG heat capacity over T} ratio shows ORG\\nupturn peculiar to a glass-like behavior. This feature is more sizeable in the\\nsquare lattice than in the linear chain as the overall hopping potential\\ncontribution to the total action is larger in higher dimensionality. The\\neffects of the electron-phonon anharmonic interactions on the phonon subsystem\\nare studied by the path integral cumulant expansion method.\"\n",
    "\n",
    "probability = get_similarity_probability(model, text1, text2, calibration_model)\n",
    "print(f\"Probability that the output is 1: {probability:.4f}\")\n"
   ]
  },
  {
   "cell_type": "code",
   "execution_count": 76,
   "id": "a90f379e-9c8d-40ef-a712-f78464566b2e",
   "metadata": {},
   "outputs": [
    {
     "name": "stdout",
     "output_type": "stream",
     "text": [
      "Cosine score: 0.9169589281082153\n",
      "Probability that the output is 1: 0.5107\n"
     ]
    }
   ],
   "source": [
    "def get_similarity_probability(model, text1, text2, calibration_model):\n",
    "    # Encode the texts\n",
    "    embedding1 = model.encode(text1, convert_to_tensor=True)\n",
    "    embedding2 = model.encode(text2, convert_to_tensor=True)\n",
    "    \n",
    "    # Calculate cosine similarity\n",
    "    cosine_score = util.pytorch_cos_sim(embedding1, embedding2).item()\n",
    "    print(f\"Cosine score: {cosine_score}\")\n",
    "    \n",
    "    # Use the calibration model to get the probability\n",
    "    probability = calibration_model1.predict_proba(np.array([[cosine_score]]))[0, 1]\n",
    "    \n",
    "    return probability\n",
    "\n",
    "# Example usage\n",
    "text1 = \"The thermodynamical stability of DNA minicircles is investigated by means of\\npath integral techniques. ORG bonds between base pairs on complementary\\nstrands can be broken by thermal fluctuations and temporary fluctuational\\nopenings along the double helix are essential to biological functions such as\\ntranscription and replication of the genetic information. Helix unwinding and\\nbubble formation patterns are computed in circular sequences with variable\\nradius in order to analyze the interplay between molecule size and appearance\\nof helical disruptions. The latter are found in minicircles with MONEY$ base\\npairs and appear as a strategy to soften the stress due to the bending and\\ntorsion of the helix.\"\n",
    "text2 = \"I propose a path integral description of the Su-Schrieffer-Heeger\\nHamiltonian, both in CARDINAL and CARDINAL dimensions, after mapping the real space model\\nonto the time scale. While the lattice degrees of freedom are classical\\nfunctions of time and are integrated out exactly, the electron particle paths\\nare treated quantum mechanically. The method accounts for the variable range of\\nthe electronic hopping processes. The free energy of the system and its\\ntemperature derivatives are computed by summing at any $MONEY over the ensemble of\\nrelevant particle paths which mainly contribute to the total partition\\nfunction. In the low $T$ regime, the {ORG heat capacity over T} ratio shows ORG\\nupturn peculiar to a glass-like behavior. This feature is more sizeable in the\\nsquare lattice than in the linear chain as the overall hopping potential\\ncontribution to the total action is larger in higher dimensionality. The\\neffects of the electron-phonon anharmonic interactions on the phonon subsystem\\nare studied by the path integral cumulant expansion method.\"\n",
    "\n",
    "probability = get_similarity_probability(model, text1, text2, calibration_model1)\n",
    "print(f\"Probability that the output is 1: {probability:.4f}\")"
   ]
  },
  {
   "cell_type": "code",
   "execution_count": 43,
   "id": "7be4508a-4b66-46f8-b823-85c1f6695eb9",
   "metadata": {},
   "outputs": [
    {
     "name": "stderr",
     "output_type": "stream",
     "text": [
      "Processing Calibration Data:  91%|█████████ | 27912/30781 [27:01<02:45, 17.35it/s]IOPub message rate exceeded.\n",
      "The Jupyter server will temporarily stop sending output\n",
      "to the client in order to avoid crashing it.\n",
      "To change this limit, set the config variable\n",
      "`--ServerApp.iopub_msg_rate_limit`.\n",
      "\n",
      "Current values:\n",
      "ServerApp.iopub_msg_rate_limit=1000.0 (msgs/sec)\n",
      "ServerApp.rate_limit_window=3.0 (secs)\n",
      "\n"
     ]
    }
   ],
   "source": [
    "import numpy as np\n",
    "from sklearn.linear_model import LogisticRegression\n",
    "from sklearn.model_selection import train_test_split\n",
    "import matplotlib.pyplot as plt\n",
    "from tqdm import tqdm\n",
    "\n",
    "# Example calibration dataset\n",
    "calibration_data1 = test['train']  # Assuming test['train'] contains your calibration data\n",
    "\n",
    "# Extract cosine similarities and scores\n",
    "cosine_scores1 = []\n",
    "scores1 = []\n",
    "\n",
    "for data in tqdm(calibration_data1, desc=\"Processing Calibration Data\"):\n",
    "    text1 = data[\"text1\"]\n",
    "    text2 = data[\"text2\"]\n",
    "    score = data[\"score\"]\n",
    "    \n",
    "    # Encode the texts\n",
    "    embedding1 = model.encode(text1, convert_to_tensor=True, show_progress_bar=False)\n",
    "    embedding2 = model.encode(text2, convert_to_tensor=True, show_progress_bar=False)\n",
    "    \n",
    "    # Calculate cosine similarity\n",
    "    cosine_score1 = util.pytorch_cos_sim(embedding1, embedding2).item()\n",
    "    \n",
    "    cosine_scores1.append(cosine_score1)\n",
    "    scores1.append(score)\n",
    "\n",
    "cosine_scores1 = np.array(cosine_scores1).reshape(-1, 1)\n",
    "scores1 = np.array(scores1)\n",
    "\n",
    "# Split data into training and testing sets\n",
    "X_train1, X_test1, y_train1, y_test1 = train_test_split(cosine_scores1, scores1, test_size=0.2, random_state=42)\n",
    "\n",
    "# Train a logistic regression model\n",
    "calibration_model1 = LogisticRegression()\n",
    "calibration_model1.fit(X_train1, y_train1)\n",
    "\n",
    "# Evaluate the model on the test set\n",
    "predictions1 = calibration_model1.predict(X_test1)\n",
    "predicted_probabilities1 = calibration_model1.predict_proba(X_test1)[:, 1]\n",
    "print(f\"Test set predictions: {predictions1}\")\n",
    "print(f\"Predicted probabilities: {predicted_probabilities1}\")"
   ]
  },
  {
   "cell_type": "code",
   "execution_count": 47,
   "id": "1c1ab511-4ef8-481b-a217-7a295deed602",
   "metadata": {},
   "outputs": [
    {
     "data": {
      "image/png": "[encoded data removed]",
      "text/plain": [
       "<Figure size 1200x600 with 2 Axes>"
      ]
     },
     "metadata": {},
     "output_type": "display_data"
    }
   ],
   "source": [
    "cosine_score_range1 = np.linspace(-1, 1, 200).reshape(-1, 1)\n",
    "\n",
    "# Predict probabilities for the range of cosine scores\n",
    "probabilities = calibration_model.predict(cosine_score_range1)\n",
    "probabilities1 = calibration_model1.predict_proba(cosine_score_range1)[:, 1]\n",
    "\n",
    "# Plot the relationship\n",
    "plt.figure(figsize=(12, 6))\n",
    "\n",
    "# Linear model plot\n",
    "plt.subplot(1, 2, 1)\n",
    "plt.plot(cosine_score_range1, probabilities, label='Linear Regression')\n",
    "plt.scatter(X_test1, y_test1, color='red', label='Test Data')\n",
    "plt.xlabel('Cosine Similarity Score')\n",
    "plt.ylabel('Predicted Probability')\n",
    "plt.title('Linear Regression: Cosine Similarity to Probability')\n",
    "plt.legend()\n",
    "plt.grid(True)\n",
    "\n",
    "# Logistic model plot\n",
    "plt.subplot(1, 2, 2)\n",
    "plt.plot(cosine_score_range1, probabilities1, label='Logistic Regression')\n",
    "plt.scatter(X_test1, y_test1, color='red', label='Test Data')\n",
    "plt.xlabel('Cosine Similarity Score')\n",
    "plt.ylabel('Predicted Probability')\n",
    "plt.title('Logistic Regression: Cosine Similarity to Probability')\n",
    "plt.legend()\n",
    "plt.grid(True)\n",
    "\n",
    "plt.tight_layout()\n",
    "plt.show()"
   ]
  },
  {
   "cell_type": "code",
   "execution_count": 46,
   "id": "919561c8-b96c-4da9-a4d5-2aba1e9c0c43",
   "metadata": {},
   "outputs": [
    {
     "name": "stdout",
     "output_type": "stream",
     "text": [
      "3\n"
     ]
    }
   ],
   "source": [
    "print(3)"
   ]
  },
  {
   "cell_type": "code",
   "execution_count": 31,
   "id": "e55c9b46-6976-4254-8bc7-ec565a0abe4a",
   "metadata": {},
   "outputs": [
    {
     "name": "stdout",
     "output_type": "stream",
     "text": [
      "0.3913908302783966\n",
      "Probability that the output is 1: 0.1739\n"
     ]
    }
   ],
   "source": [
    "# def get_similarity_probability(model, text1, text2, threshold=0.5):\n",
    "#     # Encode the texts\n",
    "#     embedding1 = model.encode(text1, convert_to_tensor=True)\n",
    "#     embedding2 = model.encode(text2, convert_to_tensor=True)\n",
    "    \n",
    "#     # Calculate cosine similarity\n",
    "#     cosine_score = util.pytorch_cos_sim(embedding1, embedding2).item()\n",
    "#     # Convert cosine similarity to a probability\n",
    "#     # Assuming a simple linear conversion for demonstration purposes:\n",
    "#     # You can use a different conversion method if you have a calibrated model.\n",
    "#     print(cosine_score)\n",
    "#     probability = (cosine_score + 1) / 8  # Cosine similarity ranges from -1 to 1\n",
    "\n",
    "#     return probability\n",
    "\n",
    "# # Example usage\n",
    "# text1 = \"sdfsdgsg\"\n",
    "# text2 = \" \"\n",
    "\n",
    "# probability = get_similarity_probability(model, text1, text2)\n",
    "# print(f\"Probability that the output is 1: {probability:.4f}\")"
   ]
  },
  {
   "cell_type": "code",
   "execution_count": 98,
   "id": "90d8a2ea-1fb5-4627-b641-16ffc01c333c",
   "metadata": {},
   "outputs": [
    {
     "data": {
      "text/plain": [
       "['./calibration_model1.pkl']"
      ]
     },
     "execution_count": 98,
     "metadata": {},
     "output_type": "execute_result"
    }
   ],
   "source": [
    "import joblib\n",
    "\n",
    "# Save the models to disk\n",
    "joblib.dump(calibration_model, './calibration_model.pkl')\n",
    "joblib.dump(calibration_model1, './calibration_model1.pkl')\n"
   ]
  },
  {
   "cell_type": "code",
   "execution_count": 94,
   "id": "92bd1c52-d2f3-4714-874b-99bd7a807b8b",
   "metadata": {},
   "outputs": [
    {
     "name": "stdout",
     "output_type": "stream",
     "text": [
      "Logged in as swan07\n"
     ]
    }
   ],
   "source": []
  },
  {
   "cell_type": "code",
   "execution_count": 99,
   "id": "c52a5628-0e92-4fa3-a658-66be4c775678",
   "metadata": {},
   "outputs": [
    {
     "ename": "HfHubHTTPError",
     "evalue": " (Request ID: Root=1-667b0d87-6784541b575626d42aa59c6d;8085b65b-4edc-4101-91ac-0aa99e612515)\n\n403 Forbidden: You don't have the rights to create a dataset under the namespace \"swan07\".\nCannot access content at: https://huggingface.co/api/repos/create.\nIf you are trying to create or update content,make sure you have a token with the `write` role.",
     "output_type": "error",
     "traceback": [
      "\u001b[0;31m---------------------------------------------------------------------------\u001b[0m",
      "\u001b[0;31mHTTPError\u001b[0m                                 Traceback (most recent call last)",
      "File \u001b[0;32m/usr/local/lib/python3.10/dist-packages/huggingface_hub/utils/_errors.py:304\u001b[0m, in \u001b[0;36mhf_raise_for_status\u001b[0;34m(response, endpoint_name)\u001b[0m\n\u001b[1;32m    303\u001b[0m \u001b[38;5;28;01mtry\u001b[39;00m:\n\u001b[0;32m--> 304\u001b[0m     \u001b[43mresponse\u001b[49m\u001b[38;5;241;43m.\u001b[39;49m\u001b[43mraise_for_status\u001b[49m\u001b[43m(\u001b[49m\u001b[43m)\u001b[49m\n\u001b[1;32m    305\u001b[0m \u001b[38;5;28;01mexcept\u001b[39;00m HTTPError \u001b[38;5;28;01mas\u001b[39;00m e:\n",
      "File \u001b[0;32m/usr/local/lib/python3.10/dist-packages/requests/models.py:1024\u001b[0m, in \u001b[0;36mResponse.raise_for_status\u001b[0;34m(self)\u001b[0m\n\u001b[1;32m   1023\u001b[0m \u001b[38;5;28;01mif\u001b[39;00m http_error_msg:\n\u001b[0;32m-> 1024\u001b[0m     \u001b[38;5;28;01mraise\u001b[39;00m HTTPError(http_error_msg, response\u001b[38;5;241m=\u001b[39m\u001b[38;5;28mself\u001b[39m)\n",
      "\u001b[0;31mHTTPError\u001b[0m: 403 Client Error: Forbidden for url: https://huggingface.co/api/repos/create",
      "\nThe above exception was the direct cause of the following exception:\n",
      "\u001b[0;31mHfHubHTTPError\u001b[0m                            Traceback (most recent call last)",
      "Cell \u001b[0;32mIn[99], line 3\u001b[0m\n\u001b[1;32m      1\u001b[0m repo_id \u001b[38;5;241m=\u001b[39m \u001b[38;5;124m'\u001b[39m\u001b[38;5;124mswan07/final-models\u001b[39m\u001b[38;5;124m'\u001b[39m  \n\u001b[1;32m      2\u001b[0m hf_token \u001b[38;5;241m=\u001b[39m \u001b[38;5;124m'\u001b[39m\u001b[38;5;124mhf_DSnPUJDJXeEQKVDziNAEpUtfRVGMVOIAhH\u001b[39m\u001b[38;5;124m'\u001b[39m\n\u001b[0;32m----> 3\u001b[0m \u001b[43mapi\u001b[49m\u001b[38;5;241;43m.\u001b[39;49m\u001b[43mcreate_repo\u001b[49m\u001b[43m(\u001b[49m\u001b[43mrepo_id\u001b[49m\u001b[38;5;241;43m=\u001b[39;49m\u001b[43mrepo_id\u001b[49m\u001b[43m,\u001b[49m\u001b[43m \u001b[49m\u001b[43mtoken\u001b[49m\u001b[38;5;241;43m=\u001b[39;49m\u001b[43mhf_token\u001b[49m\u001b[43m,\u001b[49m\u001b[43m \u001b[49m\u001b[43mrepo_type\u001b[49m\u001b[38;5;241;43m=\u001b[39;49m\u001b[38;5;124;43m'\u001b[39;49m\u001b[38;5;124;43mdataset\u001b[39;49m\u001b[38;5;124;43m'\u001b[39;49m\u001b[43m)\u001b[49m\n",
      "File \u001b[0;32m/usr/local/lib/python3.10/dist-packages/huggingface_hub/utils/_validators.py:114\u001b[0m, in \u001b[0;36mvalidate_hf_hub_args.<locals>._inner_fn\u001b[0;34m(*args, **kwargs)\u001b[0m\n\u001b[1;32m    111\u001b[0m \u001b[38;5;28;01mif\u001b[39;00m check_use_auth_token:\n\u001b[1;32m    112\u001b[0m     kwargs \u001b[38;5;241m=\u001b[39m smoothly_deprecate_use_auth_token(fn_name\u001b[38;5;241m=\u001b[39mfn\u001b[38;5;241m.\u001b[39m\u001b[38;5;18m__name__\u001b[39m, has_token\u001b[38;5;241m=\u001b[39mhas_token, kwargs\u001b[38;5;241m=\u001b[39mkwargs)\n\u001b[0;32m--> 114\u001b[0m \u001b[38;5;28;01mreturn\u001b[39;00m \u001b[43mfn\u001b[49m\u001b[43m(\u001b[49m\u001b[38;5;241;43m*\u001b[39;49m\u001b[43margs\u001b[49m\u001b[43m,\u001b[49m\u001b[43m \u001b[49m\u001b[38;5;241;43m*\u001b[39;49m\u001b[38;5;241;43m*\u001b[39;49m\u001b[43mkwargs\u001b[49m\u001b[43m)\u001b[49m\n",
      "File \u001b[0;32m/usr/local/lib/python3.10/dist-packages/huggingface_hub/hf_api.py:3256\u001b[0m, in \u001b[0;36mHfApi.create_repo\u001b[0;34m(self, repo_id, token, private, repo_type, exist_ok, space_sdk, space_hardware, space_storage, space_sleep_time, space_secrets, space_variables)\u001b[0m\n\u001b[1;32m   3253\u001b[0m     \u001b[38;5;28;01mbreak\u001b[39;00m\n\u001b[1;32m   3255\u001b[0m \u001b[38;5;28;01mtry\u001b[39;00m:\n\u001b[0;32m-> 3256\u001b[0m     \u001b[43mhf_raise_for_status\u001b[49m\u001b[43m(\u001b[49m\u001b[43mr\u001b[49m\u001b[43m)\u001b[49m\n\u001b[1;32m   3257\u001b[0m \u001b[38;5;28;01mexcept\u001b[39;00m HTTPError \u001b[38;5;28;01mas\u001b[39;00m err:\n\u001b[1;32m   3258\u001b[0m     \u001b[38;5;28;01mif\u001b[39;00m exist_ok \u001b[38;5;129;01mand\u001b[39;00m err\u001b[38;5;241m.\u001b[39mresponse\u001b[38;5;241m.\u001b[39mstatus_code \u001b[38;5;241m==\u001b[39m \u001b[38;5;241m409\u001b[39m:\n\u001b[1;32m   3259\u001b[0m         \u001b[38;5;66;03m# Repo already exists and `exist_ok=True`\u001b[39;00m\n",
      "File \u001b[0;32m/usr/local/lib/python3.10/dist-packages/huggingface_hub/utils/_errors.py:367\u001b[0m, in \u001b[0;36mhf_raise_for_status\u001b[0;34m(response, endpoint_name)\u001b[0m\n\u001b[1;32m    360\u001b[0m \u001b[38;5;28;01melif\u001b[39;00m response\u001b[38;5;241m.\u001b[39mstatus_code \u001b[38;5;241m==\u001b[39m \u001b[38;5;241m403\u001b[39m:\n\u001b[1;32m    361\u001b[0m     message \u001b[38;5;241m=\u001b[39m (\n\u001b[1;32m    362\u001b[0m         \u001b[38;5;124mf\u001b[39m\u001b[38;5;124m\"\u001b[39m\u001b[38;5;130;01m\\n\u001b[39;00m\u001b[38;5;130;01m\\n\u001b[39;00m\u001b[38;5;132;01m{\u001b[39;00mresponse\u001b[38;5;241m.\u001b[39mstatus_code\u001b[38;5;132;01m}\u001b[39;00m\u001b[38;5;124m Forbidden: \u001b[39m\u001b[38;5;132;01m{\u001b[39;00merror_message\u001b[38;5;132;01m}\u001b[39;00m\u001b[38;5;124m.\u001b[39m\u001b[38;5;124m\"\u001b[39m\n\u001b[1;32m    363\u001b[0m         \u001b[38;5;241m+\u001b[39m \u001b[38;5;124mf\u001b[39m\u001b[38;5;124m\"\u001b[39m\u001b[38;5;130;01m\\n\u001b[39;00m\u001b[38;5;124mCannot access content at: \u001b[39m\u001b[38;5;132;01m{\u001b[39;00mresponse\u001b[38;5;241m.\u001b[39murl\u001b[38;5;132;01m}\u001b[39;00m\u001b[38;5;124m.\u001b[39m\u001b[38;5;124m\"\u001b[39m\n\u001b[1;32m    364\u001b[0m         \u001b[38;5;241m+\u001b[39m \u001b[38;5;124m\"\u001b[39m\u001b[38;5;130;01m\\n\u001b[39;00m\u001b[38;5;124mIf you are trying to create or update content,\u001b[39m\u001b[38;5;124m\"\u001b[39m\n\u001b[1;32m    365\u001b[0m         \u001b[38;5;241m+\u001b[39m \u001b[38;5;124m\"\u001b[39m\u001b[38;5;124mmake sure you have a token with the `write` role.\u001b[39m\u001b[38;5;124m\"\u001b[39m\n\u001b[1;32m    366\u001b[0m     )\n\u001b[0;32m--> 367\u001b[0m     \u001b[38;5;28;01mraise\u001b[39;00m HfHubHTTPError(message, response\u001b[38;5;241m=\u001b[39mresponse) \u001b[38;5;28;01mfrom\u001b[39;00m \u001b[38;5;21;01me\u001b[39;00m\n\u001b[1;32m    369\u001b[0m \u001b[38;5;66;03m# Convert `HTTPError` into a `HfHubHTTPError` to display request information\u001b[39;00m\n\u001b[1;32m    370\u001b[0m \u001b[38;5;66;03m# as well (request id and/or server error message)\u001b[39;00m\n\u001b[1;32m    371\u001b[0m \u001b[38;5;28;01mraise\u001b[39;00m HfHubHTTPError(\u001b[38;5;28mstr\u001b[39m(e), response\u001b[38;5;241m=\u001b[39mresponse) \u001b[38;5;28;01mfrom\u001b[39;00m \u001b[38;5;21;01me\u001b[39;00m\n",
      "\u001b[0;31mHfHubHTTPError\u001b[0m:  (Request ID: Root=1-667b0d87-6784541b575626d42aa59c6d;8085b65b-4edc-4101-91ac-0aa99e612515)\n\n403 Forbidden: You don't have the rights to create a dataset under the namespace \"swan07\".\nCannot access content at: https://huggingface.co/api/repos/create.\nIf you are trying to create or update content,make sure you have a token with the `write` role."
     ]
    }
   ],
   "source": []
  },
  {
   "cell_type": "code",
   "execution_count": null,
   "id": "ddca37a1-f572-4ca7-93f1-241f6a2f566b",
   "metadata": {},
   "outputs": [],
   "source": []
  },
  {
   "cell_type": "code",
   "execution_count": 96,
   "id": "6dcb2beb-b1db-4e0f-8c29-5e566e5d9e8d",
   "metadata": {},
   "outputs": [
    {
     "ename": "NameError",
     "evalue": "name 'temp_dir' is not defined",
     "output_type": "error",
     "traceback": [
      "\u001b[0;31m---------------------------------------------------------------------------\u001b[0m",
      "\u001b[0;31mNameError\u001b[0m                                 Traceback (most recent call last)",
      "Cell \u001b[0;32mIn[96], line 2\u001b[0m\n\u001b[1;32m      1\u001b[0m api\u001b[38;5;241m.\u001b[39mupload_folder(\n\u001b[0;32m----> 2\u001b[0m     folder_path\u001b[38;5;241m=\u001b[39m\u001b[43mtemp_dir\u001b[49m,\n\u001b[1;32m      3\u001b[0m     repo_id\u001b[38;5;241m=\u001b[39mrepo_id,\n\u001b[1;32m      4\u001b[0m     token\u001b[38;5;241m=\u001b[39mhf_token,\n\u001b[1;32m      5\u001b[0m     path_in_repo\u001b[38;5;241m=\u001b[39mmodel_name \n\u001b[1;32m      6\u001b[0m )\n",
      "\u001b[0;31mNameError\u001b[0m: name 'temp_dir' is not defined"
     ]
    }
   ],
   "source": [
    "api.upload_folder(\n",
    "    folder_path=temp_dir,\n",
    "    repo_id=repo_id,\n",
    "    token=hf_token,\n",
    "    path_in_repo=model_name \n",
    ")"
   ]
  }
 ],
 "metadata": {
  "kernelspec": {
   "display_name": "Python 3 (ipykernel)",
   "language": "python",
   "name": "python3"
  },
  "language_info": {
   "codemirror_mode": {
    "name": "ipython",
    "version": 3
   },
   "file_extension": ".py",
   "mimetype": "text/x-python",
   "name": "python",
   "nbconvert_exporter": "python",
   "pygments_lexer": "ipython3",
   "version": "3.10.12"
  }
 },
 "nbformat": 4,
 "nbformat_minor": 5
}
