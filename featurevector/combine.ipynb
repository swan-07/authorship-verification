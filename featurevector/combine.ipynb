{
 "cells": [
  {
   "cell_type": "code",
   "execution_count": 4,
   "id": "98600a80-51ee-4c91-9a7c-29e91a2950a3",
   "metadata": {},
   "outputs": [],
   "source": [
    "import pickle \n",
    "with open('trainchunk0.pkl', 'rb') as f:\n",
    "    trainchunk0 = pickle.load(f)"
   ]
  },
  {
   "cell_type": "code",
   "execution_count": 5,
   "id": "c5116f66-67b7-439f-8e67-cd6c64f9b542",
   "metadata": {},
   "outputs": [],
   "source": [
    "with open('trainchunk1.pkl', 'rb') as f:\n",
    "    trainchunk1 = pickle.load(f)"
   ]
  },
  {
   "cell_type": "code",
   "execution_count": null,
   "id": "28a3b364-e8ce-4a0b-a017-146169646730",
   "metadata": {},
   "outputs": [],
   "source": [
    "with open('trainchunk2.pkl', 'rb') as f:\n",
    "    trainchunk2 = pickle.load(f)"
   ]
  },
  {
   "cell_type": "code",
   "execution_count": null,
   "id": "8703a76c-937c-4441-b4a7-2a9306891415",
   "metadata": {},
   "outputs": [],
   "source": [
    "with open('trainchunk3.pkl', 'rb') as f:\n",
    "    trainchunk3 = pickle.load(f)"
   ]
  },
  {
   "cell_type": "code",
   "execution_count": null,
   "id": "bae66065-298f-443b-ac0a-32c89159159b",
   "metadata": {},
   "outputs": [],
   "source": [
    "with open('trainchunk8.pkl', 'rb') as f:\n",
    "    trainchunk8 = pickle.load(f)"
   ]
  },
  {
   "cell_type": "code",
   "execution_count": 6,
   "id": "ac4b2e39-43aa-4614-ab8b-4c137f650260",
   "metadata": {},
   "outputs": [],
   "source": [
    "# Recombine the processed chunks into one dataset\n",
    "def combine_chunks(chunks):\n",
    "    combined = {'text1': [], 'text2': [], 'score': []}\n",
    "    for chunk in chunks:\n",
    "        combined['text1'].extend(chunk['text1'])\n",
    "        combined['text2'].extend(chunk['text2'])\n",
    "        combined['score'].extend(chunk['score'])\n",
    "    return combined"
   ]
  },
  {
   "cell_type": "code",
   "execution_count": 7,
   "id": "fa508d55-0988-4c3e-bd73-140d7fad2641",
   "metadata": {},
   "outputs": [],
   "source": [
    "\n",
    "processed_chunks = [\n",
    "    processed_train,\n",
    "    trainchunk2,\n",
    "]\n",
    "\n",
    "processed_train = combine_chunks(processed_chunks)"
   ]
  },
  {
   "cell_type": "code",
   "execution_count": null,
   "id": "0decded2-3d09-43ba-b9c5-efcac64f63e8",
   "metadata": {},
   "outputs": [],
   "source": [
    "print(2)"
   ]
  },
  {
   "cell_type": "code",
   "execution_count": 9,
   "id": "b801a23a-fd30-4b49-9575-f548817bd12b",
   "metadata": {},
   "outputs": [
    {
     "data": {
      "text/plain": [
       "RepoUrl('https://huggingface.co/swan07/process_chunks', endpoint='https://huggingface.co', repo_type='model', repo_id='swan07/process_chunks')"
      ]
     },
     "execution_count": 9,
     "metadata": {},
     "output_type": "execute_result"
    }
   ],
   "source": [
    "api.create_repo(repo_id=\"swan07/process_chunks\", private=False)\n"
   ]
  },
  {
   "cell_type": "code",
   "execution_count": 23,
   "id": "f7b67ac7-890f-4e98-a4fe-634f8ff0878e",
   "metadata": {},
   "outputs": [
    {
     "data": {
      "application/vnd.jupyter.widget-view+json": {
       "model_id": "f6c533feecf341b6bf35e1b3fb0a2a7f",
       "version_major": 2,
       "version_minor": 0
      },
      "text/plain": [
       "processed_eval.pkl:   0%|          | 0.00/3.56G [00:00<?, ?B/s]"
      ]
     },
     "metadata": {},
     "output_type": "display_data"
    },
    {
     "data": {
      "text/plain": [
       "CommitInfo(commit_url='https://huggingface.co/datasets/swan07/process_chunks/commit/5b1251fba4e54b7e553326e17f57f4db7a3b3cfc', commit_message='Upload processed_eval.pkl with huggingface_hub', commit_description='', oid='5b1251fba4e54b7e553326e17f57f4db7a3b3cfc', pr_url=None, pr_revision=None, pr_num=None)"
      ]
     },
     "execution_count": 23,
     "metadata": {},
     "output_type": "execute_result"
    }
   ],
   "source": [
    "api.upload_file(\n",
    "    path_or_fileobj=\"processed_eval.pkl\",\n",
    "    path_in_repo=\"processed_eval.pkl\",\n",
    "    repo_id=\"swan07/process_chunks\",\n",
    "    repo_type=\"dataset\",\n",
    ")"
   ]
  },
  {
   "cell_type": "code",
   "execution_count": 24,
   "id": "0e5c6ed9-2026-457c-b1ac-d1d22bbb5e0f",
   "metadata": {},
   "outputs": [
    {
     "data": {
      "application/vnd.jupyter.widget-view+json": {
       "model_id": "dfe5f8cae322415fbb4edabfc184e627",
       "version_major": 2,
       "version_minor": 0
      },
      "text/plain": [
       "trainchunk0.pkl:   0%|          | 0.00/348M [00:00<?, ?B/s]"
      ]
     },
     "metadata": {},
     "output_type": "display_data"
    },
    {
     "data": {
      "text/plain": [
       "CommitInfo(commit_url='https://huggingface.co/datasets/swan07/process_chunks/commit/e43a91783b22268fac12f503e46cfa4dbd56e5cd', commit_message='Upload trainchunk0.pkl with huggingface_hub', commit_description='', oid='e43a91783b22268fac12f503e46cfa4dbd56e5cd', pr_url=None, pr_revision=None, pr_num=None)"
      ]
     },
     "execution_count": 24,
     "metadata": {},
     "output_type": "execute_result"
    }
   ],
   "source": [
    "api.upload_file(\n",
    "    path_or_fileobj=\"trainchunk0.pkl\",\n",
    "    path_in_repo=\"trainchunk0.pkl\",\n",
    "    repo_id=\"swan07/process_chunks\",\n",
    "    repo_type=\"dataset\",\n",
    ")"
   ]
  },
  {
   "cell_type": "code",
   "execution_count": 25,
   "id": "8727c8d7-8f10-43bf-a215-b749e7e0d3cf",
   "metadata": {},
   "outputs": [
    {
     "data": {
      "application/vnd.jupyter.widget-view+json": {
       "model_id": "3dc4b41ec4a2440482ce3c9912e40b07",
       "version_major": 2,
       "version_minor": 0
      },
      "text/plain": [
       "trainchunk1.pkl:   0%|          | 0.00/555M [00:00<?, ?B/s]"
      ]
     },
     "metadata": {},
     "output_type": "display_data"
    },
    {
     "data": {
      "text/plain": [
       "CommitInfo(commit_url='https://huggingface.co/datasets/swan07/process_chunks/commit/97fba57076490117a91e9331253ef4581728d027', commit_message='Upload trainchunk1.pkl with huggingface_hub', commit_description='', oid='97fba57076490117a91e9331253ef4581728d027', pr_url=None, pr_revision=None, pr_num=None)"
      ]
     },
     "execution_count": 25,
     "metadata": {},
     "output_type": "execute_result"
    }
   ],
   "source": [
    "api.upload_file(\n",
    "    path_or_fileobj=\"trainchunk1.pkl\",\n",
    "    path_in_repo=\"trainchunk1.pkl\",\n",
    "    repo_id=\"swan07/process_chunks\",\n",
    "    repo_type=\"dataset\",\n",
    ")"
   ]
  },
  {
   "cell_type": "code",
   "execution_count": 26,
   "id": "b538d3df-01ba-43ee-a73d-5cdc83018899",
   "metadata": {},
   "outputs": [
    {
     "data": {
      "application/vnd.jupyter.widget-view+json": {
       "model_id": "6e844cf54d5940f6b5ea813bf8690ec5",
       "version_major": 2,
       "version_minor": 0
      },
      "text/plain": [
       "trainchunk2.pkl:   0%|          | 0.00/6.63G [00:00<?, ?B/s]"
      ]
     },
     "metadata": {},
     "output_type": "display_data"
    },
    {
     "data": {
      "text/plain": [
       "CommitInfo(commit_url='https://huggingface.co/datasets/swan07/process_chunks/commit/00c81e5b74f5da0f146513b12ad9973a50293185', commit_message='Upload trainchunk2.pkl with huggingface_hub', commit_description='', oid='00c81e5b74f5da0f146513b12ad9973a50293185', pr_url=None, pr_revision=None, pr_num=None)"
      ]
     },
     "execution_count": 26,
     "metadata": {},
     "output_type": "execute_result"
    }
   ],
   "source": [
    "api.upload_file(\n",
    "    path_or_fileobj=\"trainchunk2.pkl\",\n",
    "    path_in_repo=\"trainchunk2.pkl\",\n",
    "    repo_id=\"swan07/process_chunks\",\n",
    "    repo_type=\"dataset\",\n",
    ")"
   ]
  },
  {
   "cell_type": "code",
   "execution_count": 27,
   "id": "4c97676e-16f6-4337-8940-60ce4bb39002",
   "metadata": {},
   "outputs": [
    {
     "data": {
      "application/vnd.jupyter.widget-view+json": {
       "model_id": "a3b7677d338349abaabfe22cc50fe0cf",
       "version_major": 2,
       "version_minor": 0
      },
      "text/plain": [
       "trainchunk3.pkl:   0%|          | 0.00/7.13G [00:00<?, ?B/s]"
      ]
     },
     "metadata": {},
     "output_type": "display_data"
    },
    {
     "data": {
      "text/plain": [
       "CommitInfo(commit_url='https://huggingface.co/datasets/swan07/process_chunks/commit/fab85c953068c170fea2397675a71a0a602c50b8', commit_message='Upload trainchunk3.pkl with huggingface_hub', commit_description='', oid='fab85c953068c170fea2397675a71a0a602c50b8', pr_url=None, pr_revision=None, pr_num=None)"
      ]
     },
     "execution_count": 27,
     "metadata": {},
     "output_type": "execute_result"
    }
   ],
   "source": [
    "api.upload_file(\n",
    "    path_or_fileobj=\"trainchunk3.pkl\",\n",
    "    path_in_repo=\"trainchunk3.pkl\",\n",
    "    repo_id=\"swan07/process_chunks\",\n",
    "    repo_type=\"dataset\",\n",
    ")"
   ]
  },
  {
   "cell_type": "code",
   "execution_count": 28,
   "id": "5afd35e2-4463-4d05-bc2e-b2f436f0d5c1",
   "metadata": {},
   "outputs": [
    {
     "data": {
      "application/vnd.jupyter.widget-view+json": {
       "model_id": "a5dbfb20740e46348e4a9381a9fc5a85",
       "version_major": 2,
       "version_minor": 0
      },
      "text/plain": [
       "trainchunk8.pkl:   0%|          | 0.00/7.10G [00:00<?, ?B/s]"
      ]
     },
     "metadata": {},
     "output_type": "display_data"
    },
    {
     "data": {
      "text/plain": [
       "CommitInfo(commit_url='https://huggingface.co/datasets/swan07/process_chunks/commit/72ab0109b3cff4e24310bc312fa00296f1a74bc6', commit_message='Upload trainchunk8.pkl with huggingface_hub', commit_description='', oid='72ab0109b3cff4e24310bc312fa00296f1a74bc6', pr_url=None, pr_revision=None, pr_num=None)"
      ]
     },
     "execution_count": 28,
     "metadata": {},
     "output_type": "execute_result"
    }
   ],
   "source": [
    "api.upload_file(\n",
    "    path_or_fileobj=\"trainchunk8.pkl\",\n",
    "    path_in_repo=\"trainchunk8.pkl\",\n",
    "    repo_id=\"swan07/process_chunks\",\n",
    "    repo_type=\"dataset\",\n",
    ")"
   ]
  },
  {
   "cell_type": "code",
   "execution_count": 29,
   "id": "1bd13cea-be2c-46e4-a6a3-2128d1e66038",
   "metadata": {},
   "outputs": [
    {
     "data": {
      "application/vnd.jupyter.widget-view+json": {
       "model_id": "e5421afe77ce43fb8e3fafcf57272d66",
       "version_major": 2,
       "version_minor": 0
      },
      "text/plain": [
       "train.pkl:   0%|          | 0.00/6.31k [00:00<?, ?B/s]"
      ]
     },
     "metadata": {},
     "output_type": "display_data"
    },
    {
     "data": {
      "text/plain": [
       "CommitInfo(commit_url='https://huggingface.co/datasets/swan07/process_chunks/commit/4eba58e4ffccba0303263332a2b1f9b605696fa7', commit_message='Upload /workspace/train.pkl with huggingface_hub', commit_description='', oid='4eba58e4ffccba0303263332a2b1f9b605696fa7', pr_url=None, pr_revision=None, pr_num=None)"
      ]
     },
     "execution_count": 29,
     "metadata": {},
     "output_type": "execute_result"
    }
   ],
   "source": [
    "api.upload_file(\n",
    "    path_or_fileobj=\"/workspace/train.pkl\",\n",
    "    path_in_repo=\"/workspace/train.pkl\",\n",
    "    repo_id=\"swan07/process_chunks\",\n",
    "    repo_type=\"dataset\",\n",
    ")"
   ]
  },
  {
   "cell_type": "code",
   "execution_count": 30,
   "id": "c832b63e-4d3b-41df-aa8a-880e5b2439c0",
   "metadata": {},
   "outputs": [
    {
     "data": {
      "application/vnd.jupyter.widget-view+json": {
       "model_id": "91045b74133e4259b18d7fcec898fc7b",
       "version_major": 2,
       "version_minor": 0
      },
      "text/plain": [
       "test.pkl:   0%|          | 0.00/13.7k [00:00<?, ?B/s]"
      ]
     },
     "metadata": {},
     "output_type": "display_data"
    },
    {
     "data": {
      "text/plain": [
       "CommitInfo(commit_url='https://huggingface.co/datasets/swan07/process_chunks/commit/3680e0aee0b8d1a452b4f16359bc1406dc4faa90', commit_message='Upload /workspace/test.pkl with huggingface_hub', commit_description='', oid='3680e0aee0b8d1a452b4f16359bc1406dc4faa90', pr_url=None, pr_revision=None, pr_num=None)"
      ]
     },
     "execution_count": 30,
     "metadata": {},
     "output_type": "execute_result"
    }
   ],
   "source": [
    "api.upload_file(\n",
    "    path_or_fileobj=\"/workspace/test.pkl\",\n",
    "    path_in_repo=\"/workspace/test.pkl\",\n",
    "    repo_id=\"swan07/process_chunks\",\n",
    "    repo_type=\"dataset\",\n",
    ")"
   ]
  },
  {
   "cell_type": "code",
   "execution_count": 31,
   "id": "cf4ba392-ec17-4f35-990b-ccae48a1424e",
   "metadata": {},
   "outputs": [
    {
     "data": {
      "application/vnd.jupyter.widget-view+json": {
       "model_id": "c4055ba84e8a4562b1cb13ceadbaf9c5",
       "version_major": 2,
       "version_minor": 0
      },
      "text/plain": [
       "val.pkl:   0%|          | 0.00/3.47k [00:00<?, ?B/s]"
      ]
     },
     "metadata": {},
     "output_type": "display_data"
    },
    {
     "data": {
      "text/plain": [
       "CommitInfo(commit_url='https://huggingface.co/datasets/swan07/process_chunks/commit/c3822679417009d55c5f10e8eac705b7362340ab', commit_message='Upload /workspace/val.pkl with huggingface_hub', commit_description='', oid='c3822679417009d55c5f10e8eac705b7362340ab', pr_url=None, pr_revision=None, pr_num=None)"
      ]
     },
     "execution_count": 31,
     "metadata": {},
     "output_type": "execute_result"
    }
   ],
   "source": [
    "api.upload_file(\n",
    "    path_or_fileobj=\"/workspace/val.pkl\",\n",
    "    path_in_repo=\"/workspace/val.pkl\",\n",
    "    repo_id=\"swan07/process_chunks\",\n",
    "    repo_type=\"dataset\",\n",
    ")"
   ]
  },
  {
   "cell_type": "code",
   "execution_count": 9,
   "id": "57d7528e-d601-42c4-b324-af1a17ff3b6d",
   "metadata": {},
   "outputs": [
    {
     "name": "stdout",
     "output_type": "stream",
     "text": [
      "Collecting pandas\n",
      "  Downloading pandas-2.2.2-cp310-cp310-manylinux_2_17_x86_64.manylinux2014_x86_64.whl.metadata (19 kB)\n",
      "Requirement already satisfied: numpy>=1.22.4 in /usr/local/lib/python3.10/dist-packages (from pandas) (1.24.1)\n",
      "Requirement already satisfied: python-dateutil>=2.8.2 in /usr/local/lib/python3.10/dist-packages (from pandas) (2.8.2)\n",
      "Collecting pytz>=2020.1 (from pandas)\n",
      "  Downloading pytz-2024.1-py2.py3-none-any.whl.metadata (22 kB)\n",
      "Collecting tzdata>=2022.7 (from pandas)\n",
      "  Downloading tzdata-2024.1-py2.py3-none-any.whl.metadata (1.4 kB)\n",
      "Requirement already satisfied: six>=1.5 in /usr/lib/python3/dist-packages (from python-dateutil>=2.8.2->pandas) (1.16.0)\n",
      "Downloading pandas-2.2.2-cp310-cp310-manylinux_2_17_x86_64.manylinux2014_x86_64.whl (13.0 MB)\n",
      "\u001b[2K   \u001b[90m━━━━━━━━━━━━━━━━━━━━━━━━━━━━━━━━━━━━━━━━\u001b[0m \u001b[32m13.0/13.0 MB\u001b[0m \u001b[31m108.7 MB/s\u001b[0m eta \u001b[36m0:00:00\u001b[0m00:01\u001b[0m:01\u001b[0m\n",
      "\u001b[?25hDownloading pytz-2024.1-py2.py3-none-any.whl (505 kB)\n",
      "\u001b[2K   \u001b[90m━━━━━━━━━━━━━━━━━━━━━━━━━━━━━━━━━━━━━━━━\u001b[0m \u001b[32m505.5/505.5 kB\u001b[0m \u001b[31m87.5 MB/s\u001b[0m eta \u001b[36m0:00:00\u001b[0m\n",
      "\u001b[?25hDownloading tzdata-2024.1-py2.py3-none-any.whl (345 kB)\n",
      "\u001b[2K   \u001b[90m━━━━━━━━━━━━━━━━━━━━━━━━━━━━━━━━━━━━━━━━\u001b[0m \u001b[32m345.4/345.4 kB\u001b[0m \u001b[31m74.8 MB/s\u001b[0m eta \u001b[36m0:00:00\u001b[0m\n",
      "\u001b[?25hInstalling collected packages: pytz, tzdata, pandas\n",
      "Successfully installed pandas-2.2.2 pytz-2024.1 tzdata-2024.1\n",
      "\u001b[33mWARNING: Running pip as the 'root' user can result in broken permissions and conflicting behaviour with the system package manager. It is recommended to use a virtual environment instead: https://pip.pypa.io/warnings/venv\u001b[0m\u001b[33m\n",
      "\u001b[0m\n",
      "\u001b[1m[\u001b[0m\u001b[34;49mnotice\u001b[0m\u001b[1;39;49m]\u001b[0m\u001b[39;49m A new release of pip is available: \u001b[0m\u001b[31;49m23.3.1\u001b[0m\u001b[39;49m -> \u001b[0m\u001b[32;49m24.1\u001b[0m\n",
      "\u001b[1m[\u001b[0m\u001b[34;49mnotice\u001b[0m\u001b[1;39;49m]\u001b[0m\u001b[39;49m To update, run: \u001b[0m\u001b[32;49mpython -m pip install --upgrade pip\u001b[0m\n"
     ]
    }
   ],
   "source": [
    "!pip install pandas"
   ]
  },
  {
   "cell_type": "code",
   "execution_count": 1,
   "id": "12a142de-d287-4a9c-b753-a07fb1910fe7",
   "metadata": {},
   "outputs": [],
   "source": [
    "from huggingface_hub import HfApi, hf_hub_download\n",
    "import pickle\n",
    "import pandas as pd\n",
    "\n",
    "# Initialize the HfApi\n",
    "api = HfApi()\n",
    "\n",
    "# List all files in the repository\n",
    "file_list = api.list_repo_files(repo_id=\"swan07/process_chunks\", repo_type=\"dataset\")\n"
   ]
  },
  {
   "cell_type": "code",
   "execution_count": 3,
   "id": "0810f93c-360d-4b35-a75a-d5be99828115",
   "metadata": {},
   "outputs": [],
   "source": [
    "\n",
    "# Filter for files matching the pattern \"trainchunk*\"\n",
    "train_files = [filename for filename in file_list if filename.startswith(\"trainchunk\")]\n"
   ]
  },
  {
   "cell_type": "code",
   "execution_count": 4,
   "id": "35bda6d8-96cf-4b42-9c81-8d9c6f58eb9d",
   "metadata": {},
   "outputs": [
    {
     "data": {
      "text/plain": [
       "['trainchunk0.pkl',\n",
       " 'trainchunk1.pkl',\n",
       " 'trainchunk2.pkl',\n",
       " 'trainchunk3.pkl',\n",
       " 'trainchunk8.pkl']"
      ]
     },
     "execution_count": 4,
     "metadata": {},
     "output_type": "execute_result"
    }
   ],
   "source": [
    "train_files"
   ]
  },
  {
   "cell_type": "code",
   "execution_count": 5,
   "id": "885aa074-78b3-4f7a-a704-27d54fca7061",
   "metadata": {},
   "outputs": [],
   "source": [
    "\n",
    "# Initialize an empty list to store DataFrames\n",
    "data_frames = []\n"
   ]
  },
  {
   "cell_type": "code",
   "execution_count": null,
   "id": "e62882bb-269e-4e9d-b48a-c13c6c26f36b",
   "metadata": {},
   "outputs": [],
   "source": [
    "\n",
    "# Download and unpickle each file, then store the DataFrame\n",
    "for filename in train_files:\n",
    "    file_path = hf_hub_download(repo_id=\"swan07/process_chunks\", filename=filename, repo_type=\"dataset\")\n",
    "    with open(file_path, \"rb\") as f:\n",
    "        data = pickle.load(f)\n",
    "    df = pd.DataFrame(data)\n",
    "    data_frames.append(df)\n"
   ]
  },
  {
   "cell_type": "code",
   "execution_count": 10,
   "id": "1d447614-4fb7-4b35-b932-4ca89565844c",
   "metadata": {},
   "outputs": [],
   "source": [
    "\n",
    "# Combine all DataFrames into a single DataFrame\n",
    "combined_df = pd.concat(data_frames, ignore_index=True)"
   ]
  },
  {
   "cell_type": "code",
   "execution_count": 12,
   "id": "a45e60b7-d3c0-409a-b548-581d6edb97d4",
   "metadata": {},
   "outputs": [],
   "source": [
    "with open('dset.pkl', 'wb') as f:\n",
    "    pickle.dump(combined_df, f)"
   ]
  },
  {
   "cell_type": "code",
   "execution_count": 13,
   "id": "e768b0cc-ee4e-4049-814c-d22d7417bbb8",
   "metadata": {},
   "outputs": [
    {
     "data": {
      "text/html": [
       "<div>\n",
       "<style scoped>\n",
       "    .dataframe tbody tr th:only-of-type {\n",
       "        vertical-align: middle;\n",
       "    }\n",
       "\n",
       "    .dataframe tbody tr th {\n",
       "        vertical-align: top;\n",
       "    }\n",
       "\n",
       "    .dataframe thead th {\n",
       "        text-align: right;\n",
       "    }\n",
       "</style>\n",
       "<table border=\"1\" class=\"dataframe\">\n",
       "  <thead>\n",
       "    <tr style=\"text-align: right;\">\n",
       "      <th></th>\n",
       "      <th>text1</th>\n",
       "      <th>text2</th>\n",
       "      <th>score</th>\n",
       "    </tr>\n",
       "  </thead>\n",
       "  <tbody>\n",
       "    <tr>\n",
       "      <th>0</th>\n",
       "      <td>{'preprocessed': 'This article presents a mode...</td>\n",
       "      <td>{'preprocessed': 'We review ORG's paradox (or ...</td>\n",
       "      <td>0</td>\n",
       "    </tr>\n",
       "    <tr>\n",
       "      <th>1</th>\n",
       "      <td>{'preprocessed': 'We try to perform geometriza...</td>\n",
       "      <td>{'preprocessed': 'We compute the anomalous dim...</td>\n",
       "      <td>0</td>\n",
       "    </tr>\n",
       "    <tr>\n",
       "      <th>2</th>\n",
       "      <td>{'preprocessed': 'Any real interaction process...</td>\n",
       "      <td>{'preprocessed': 'A quite general interaction ...</td>\n",
       "      <td>1</td>\n",
       "    </tr>\n",
       "    <tr>\n",
       "      <th>3</th>\n",
       "      <td>{'preprocessed': 'The purpose of this paper is...</td>\n",
       "      <td>{'preprocessed': 'We hereby consider the probl...</td>\n",
       "      <td>0</td>\n",
       "    </tr>\n",
       "    <tr>\n",
       "      <th>4</th>\n",
       "      <td>{'preprocessed': 'We study the use of \"sign $\\...</td>\n",
       "      <td>{'preprocessed': 'Based on $\\alpha$-stable ran...</td>\n",
       "      <td>1</td>\n",
       "    </tr>\n",
       "  </tbody>\n",
       "</table>\n",
       "</div>"
      ],
      "text/plain": [
       "                                               text1  \\\n",
       "0  {'preprocessed': 'This article presents a mode...   \n",
       "1  {'preprocessed': 'We try to perform geometriza...   \n",
       "2  {'preprocessed': 'Any real interaction process...   \n",
       "3  {'preprocessed': 'The purpose of this paper is...   \n",
       "4  {'preprocessed': 'We study the use of \"sign $\\...   \n",
       "\n",
       "                                               text2  score  \n",
       "0  {'preprocessed': 'We review ORG's paradox (or ...      0  \n",
       "1  {'preprocessed': 'We compute the anomalous dim...      0  \n",
       "2  {'preprocessed': 'A quite general interaction ...      1  \n",
       "3  {'preprocessed': 'We hereby consider the probl...      0  \n",
       "4  {'preprocessed': 'Based on $\\alpha$-stable ran...      1  "
      ]
     },
     "execution_count": 13,
     "metadata": {},
     "output_type": "execute_result"
    }
   ],
   "source": [
    "combined_df.head()"
   ]
  },
  {
   "cell_type": "code",
   "execution_count": 7,
   "id": "20819d72-8582-4335-bf78-8fd96a2f4d44",
   "metadata": {},
   "outputs": [
    {
     "name": "stdout",
     "output_type": "stream",
     "text": [
      "1\n"
     ]
    }
   ],
   "source": [
    "print(1)"
   ]
  }
 ],
 "metadata": {
  "kernelspec": {
   "display_name": "Python 3 (ipykernel)",
   "language": "python",
   "name": "python3"
  },
  "language_info": {
   "codemirror_mode": {
    "name": "ipython",
    "version": 3
   },
   "file_extension": ".py",
   "mimetype": "text/x-python",
   "name": "python",
   "nbconvert_exporter": "python",
   "pygments_lexer": "ipython3",
   "version": "3.10.12"
  }
 },
 "nbformat": 4,
 "nbformat_minor": 5
}
