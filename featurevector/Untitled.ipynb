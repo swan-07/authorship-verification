{
 "cells": [
  {
   "cell_type": "code",
   "execution_count": 1,
   "id": "11a2f632-5f6e-49cd-9d87-5f2369606161",
   "metadata": {},
   "outputs": [],
   "source": [
    "from features import get_transformer, merge_entries\n"
   ]
  },
  {
   "cell_type": "code",
   "execution_count": 2,
   "id": "6b1a436c-3fd1-41c9-bef2-0f1c964d8b3b",
   "metadata": {},
   "outputs": [],
   "source": [
    "transformer = get_transformer()"
   ]
  },
  {
   "cell_type": "code",
   "execution_count": 22,
   "id": "8efe8b3b-47af-4a92-9b20-373fc218f876",
   "metadata": {},
   "outputs": [
    {
     "name": "stdout",
     "output_type": "stream",
     "text": [
      "char_distr\n",
      "pos_tag_distr\n",
      "pos_tag_chunks_distr\n",
      "pos_tag_chunks_subtree_distr\n",
      "special_char_distr\n",
      "freq_func_words\n",
      "hapax_legomena\n",
      "distr_chars_per_word\n",
      "avg_chars_per_word\n",
      "vocab_richness\n",
      "misspellings\n"
     ]
    },
    {
     "ename": "AttributeError",
     "evalue": "'MisspellingsFeatureTransformer' object has no attribute 'get_feature_names_'",
     "output_type": "error",
     "traceback": [
      "\u001b[0;31m---------------------------------------------------------------------------\u001b[0m",
      "\u001b[0;31mAttributeError\u001b[0m                            Traceback (most recent call last)",
      "Cell \u001b[0;32mIn[22], line 5\u001b[0m\n\u001b[1;32m      3\u001b[0m \u001b[38;5;28mprint\u001b[39m(name)\n\u001b[1;32m      4\u001b[0m \u001b[38;5;28;01mif\u001b[39;00m(name\u001b[38;5;241m==\u001b[39m\u001b[38;5;124m\"\u001b[39m\u001b[38;5;124mmisspellings\u001b[39m\u001b[38;5;124m\"\u001b[39m):\n\u001b[0;32m----> 5\u001b[0m     a \u001b[38;5;241m=\u001b[39m \u001b[43mtrans\u001b[49m\u001b[38;5;241;43m.\u001b[39;49m\u001b[43mget_feature_names_\u001b[49m\n\u001b[1;32m      6\u001b[0m     l\u001b[38;5;241m.\u001b[39mappend(a)\n",
      "\u001b[0;31mAttributeError\u001b[0m: 'MisspellingsFeatureTransformer' object has no attribute 'get_feature_names_'"
     ]
    }
   ],
   "source": [
    "l = []\n",
    "for name, trans in transformer.transformer_list:\n",
    "    print(name)\n",
    "    if(name==\"misspellings\"):\n",
    "        a = trans.get_feature_names_\n",
    "        l.append(a)"
   ]
  },
  {
   "cell_type": "code",
   "execution_count": 21,
   "id": "1668806d-55f9-45e6-bc15-425349738e97",
   "metadata": {},
   "outputs": [
    {
     "data": {
      "text/plain": [
       "<bound method CustomFuncTransformer.get_feature_names_out of CustomFuncTransformer(fnames=['type_token_ratio', 'guiraud_r', 'herdan_c',\n",
       "                              'dugast_k', 'maas_a2', 'dugast_u', 'tuldava_ln',\n",
       "                              'brunet_w', 'cttr', 'summer_s', 'sichel_s',\n",
       "                              'michea_m', 'honore_h', 'herdan_vm', 'entropy',\n",
       "                              'yule_k', 'simpson_d'],\n",
       "                      transformer_func=<function compute_vocab_richness at 0x7fc2db009000>)>"
      ]
     },
     "execution_count": 21,
     "metadata": {},
     "output_type": "execute_result"
    }
   ],
   "source": [
    "l[9]"
   ]
  }
 ],
 "metadata": {
  "kernelspec": {
   "display_name": "Python 3 (ipykernel)",
   "language": "python",
   "name": "python3"
  },
  "language_info": {
   "codemirror_mode": {
    "name": "ipython",
    "version": 3
   },
   "file_extension": ".py",
   "mimetype": "text/x-python",
   "name": "python",
   "nbconvert_exporter": "python",
   "pygments_lexer": "ipython3",
   "version": "3.10.12"
  }
 },
 "nbformat": 4,
 "nbformat_minor": 5
}
