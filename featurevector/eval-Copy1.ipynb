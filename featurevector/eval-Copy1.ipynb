{
 "cells": [
  {
   "cell_type": "code",
   "execution_count": 3,
   "id": "03f74523-3819-489b-9feb-65b5709b233d",
   "metadata": {},
   "outputs": [],
   "source": [
    "import pickle \n",
    "with open('/workspace/train.pkl', 'rb') as f:\n",
    "    train_df = pickle.load(f)"
   ]
  },
  {
   "cell_type": "code",
   "execution_count": 6,
   "id": "d6150c9c-1a2f-4ad5-a368-6a4563fdf98f",
   "metadata": {},
   "outputs": [],
   "source": [
    "with open('/workspace/val.pkl', 'rb') as f:\n",
    "    val_df = pickle.load(f)"
   ]
  },
  {
   "cell_type": "code",
   "execution_count": 7,
   "id": "ca0911f2-03a3-4291-9577-cc3af750673c",
   "metadata": {},
   "outputs": [],
   "source": [
    "with open('/workspace/test.pkl', 'rb') as f:\n",
    "    test_dfs = pickle.load(f)"
   ]
  },
  {
   "cell_type": "code",
   "execution_count": 4,
   "id": "438f4065-9843-4ada-91fe-7640e445b9f2",
   "metadata": {},
   "outputs": [],
   "source": [
    "import nltk"
   ]
  },
  {
   "cell_type": "code",
   "execution_count": 5,
   "id": "7a885e3d-7b79-4005-a088-e2d3e1a69bdb",
   "metadata": {},
   "outputs": [
    {
     "name": "stderr",
     "output_type": "stream",
     "text": [
      "[nltk_data] Downloading package averaged_perceptron_tagger to\n",
      "[nltk_data]     /root/nltk_data...\n",
      "[nltk_data]   Package averaged_perceptron_tagger is already up-to-\n",
      "[nltk_data]       date!\n"
     ]
    },
    {
     "data": {
      "text/plain": [
       "True"
      ]
     },
     "execution_count": 5,
     "metadata": {},
     "output_type": "execute_result"
    }
   ],
   "source": [
    "nltk.download('averaged_perceptron_tagger')"
   ]
  },
  {
   "cell_type": "code",
   "execution_count": 6,
   "id": "85401344-3f1a-42e0-af05-c24e1695552e",
   "metadata": {},
   "outputs": [],
   "source": [
    "import os\n",
    "import pickle\n",
    "import json\n",
    "import glob\n",
    "from tqdm.auto import trange, tqdm\n",
    "import sys\n",
    "import numpy as np\n",
    "from features import prepare_entry"
   ]
  },
  {
   "cell_type": "code",
   "execution_count": 7,
   "id": "44354640-4ad0-437b-9252-c0241d88dde0",
   "metadata": {},
   "outputs": [],
   "source": [
    "train = train_df['train']"
   ]
  },
  {
   "cell_type": "code",
   "execution_count": 12,
   "id": "12b800c3-1eda-4955-bc36-f30a7dab51c3",
   "metadata": {},
   "outputs": [],
   "source": [
    "# eval = val_df['train']"
   ]
  },
  {
   "cell_type": "code",
   "execution_count": 8,
   "id": "cec02b25-3992-449c-a654-acf64e3e4702",
   "metadata": {},
   "outputs": [],
   "source": [
    "def preprocess_function(examples):\n",
    "    examples['text1'] = [prepare_entry(text, mode='accurate', tokenizer='casual') for text in tqdm(examples['text1'], desc='Processing text1')]\n",
    "    examples['text2'] = [prepare_entry(text, mode='accurate', tokenizer='casual') for text in tqdm(examples['text2'], desc='Processing text2')]\n",
    "    return examples"
   ]
  },
  {
   "cell_type": "code",
   "execution_count": 9,
   "id": "db902593-a291-4d56-a7dc-41f4f3a2b91b",
   "metadata": {},
   "outputs": [],
   "source": [
    "import numpy as np\n",
    "\n",
    "def split_into_chunks(dataset, num_chunks):\n",
    "    chunk_size = len(dataset['text1']) // num_chunks\n",
    "    chunks = []\n",
    "    for i in range(num_chunks):\n",
    "        chunk = {\n",
    "            'text1': dataset['text1'][i * chunk_size:(i + 1) * chunk_size],\n",
    "            'text2': dataset['text2'][i * chunk_size:(i + 1) * chunk_size],\n",
    "            'score': dataset['score'][i * chunk_size:(i + 1) * chunk_size]\n",
    "        }\n",
    "        chunks.append(chunk)\n",
    "    return chunks\n"
   ]
  },
  {
   "cell_type": "code",
   "execution_count": 15,
   "id": "622b8239-27d8-47b1-bf81-de39dba9a3ed",
   "metadata": {},
   "outputs": [],
   "source": [
    "# eval_chunks = split_into_chunks(eval, 10)"
   ]
  },
  {
   "cell_type": "code",
   "execution_count": 16,
   "id": "b8f5e5d4-682d-43be-b39d-037954f7570a",
   "metadata": {},
   "outputs": [
    {
     "data": {
      "application/vnd.jupyter.widget-view+json": {
       "model_id": "435087bb22604afb942d8e4be16792f2",
       "version_major": 2,
       "version_minor": 0
      },
      "text/plain": [
       "Processing text1:   0%|          | 0/3078 [00:00<?, ?it/s]"
      ]
     },
     "metadata": {},
     "output_type": "display_data"
    },
    {
     "data": {
      "application/vnd.jupyter.widget-view+json": {
       "model_id": "f2b3f02f68e743b9adcb98f1591ec52e",
       "version_major": 2,
       "version_minor": 0
      },
      "text/plain": [
       "Processing text2:   0%|          | 0/3078 [00:00<?, ?it/s]"
      ]
     },
     "metadata": {},
     "output_type": "display_data"
    }
   ],
   "source": [
    "# processed_chunk_1 = preprocess_function(eval_chunks[0])\n"
   ]
  },
  {
   "cell_type": "code",
   "execution_count": 17,
   "id": "df847355-abac-4592-8882-f04d0dd4f046",
   "metadata": {},
   "outputs": [],
   "source": [
    "with open('evalchunk0.pkl', 'wb') as f:\n",
    "    pickle.dump(processed_chunk_1, f)"
   ]
  },
  {
   "cell_type": "code",
   "execution_count": 18,
   "id": "fb37506f-35ed-4123-9b90-b9e2494040da",
   "metadata": {},
   "outputs": [
    {
     "data": {
      "application/vnd.jupyter.widget-view+json": {
       "model_id": "3f7717fd3b5a4914b87574585f5a7acf",
       "version_major": 2,
       "version_minor": 0
      },
      "text/plain": [
       "Processing text1:   0%|          | 0/3078 [00:00<?, ?it/s]"
      ]
     },
     "metadata": {},
     "output_type": "display_data"
    },
    {
     "data": {
      "application/vnd.jupyter.widget-view+json": {
       "model_id": "83f50f010e1c44f7bea55bf1d11d23b5",
       "version_major": 2,
       "version_minor": 0
      },
      "text/plain": [
       "Processing text2:   0%|          | 0/3078 [00:00<?, ?it/s]"
      ]
     },
     "metadata": {},
     "output_type": "display_data"
    }
   ],
   "source": [
    "# processed_chunk_2 = preprocess_function(eval_chunks[1])\n"
   ]
  },
  {
   "cell_type": "code",
   "execution_count": 25,
   "id": "f3570686-bb89-4949-b33f-bae536dc25d7",
   "metadata": {},
   "outputs": [],
   "source": [
    "with open('evalchunk1.pkl', 'wb') as f:\n",
    "    pickle.dump(processed_chunk_2, f)"
   ]
  },
  {
   "cell_type": "code",
   "execution_count": 20,
   "id": "60cc3280-2fb2-4a08-a612-7a68223b4482",
   "metadata": {},
   "outputs": [
    {
     "data": {
      "application/vnd.jupyter.widget-view+json": {
       "model_id": "37a9e8ce4eff4f3f93be862f6b472648",
       "version_major": 2,
       "version_minor": 0
      },
      "text/plain": [
       "Processing text1:   0%|          | 0/3078 [00:00<?, ?it/s]"
      ]
     },
     "metadata": {},
     "output_type": "display_data"
    },
    {
     "data": {
      "application/vnd.jupyter.widget-view+json": {
       "model_id": "8d8f3e0ef0c84c06a8f499cd0aede1c3",
       "version_major": 2,
       "version_minor": 0
      },
      "text/plain": [
       "Processing text2:   0%|          | 0/3078 [00:00<?, ?it/s]"
      ]
     },
     "metadata": {},
     "output_type": "display_data"
    }
   ],
   "source": [
    "# processed_chunk_3 = preprocess_function(eval_chunks[2])\n"
   ]
  },
  {
   "cell_type": "code",
   "execution_count": 22,
   "id": "a64c4c5d-675a-44e3-b818-426931c7bbe8",
   "metadata": {},
   "outputs": [
    {
     "data": {
      "application/vnd.jupyter.widget-view+json": {
       "model_id": "f30c3e054bd0483596f66ae1d99591f6",
       "version_major": 2,
       "version_minor": 0
      },
      "text/plain": [
       "Processing text1:   0%|          | 0/3078 [00:00<?, ?it/s]"
      ]
     },
     "metadata": {},
     "output_type": "display_data"
    },
    {
     "data": {
      "application/vnd.jupyter.widget-view+json": {
       "model_id": "6b0876cb01554216aeac431f53d9b901",
       "version_major": 2,
       "version_minor": 0
      },
      "text/plain": [
       "Processing text2:   0%|          | 0/3078 [00:00<?, ?it/s]"
      ]
     },
     "metadata": {},
     "output_type": "display_data"
    }
   ],
   "source": [
    "# processed_chunk_4 = preprocess_function(eval_chunks[3])"
   ]
  },
  {
   "cell_type": "code",
   "execution_count": 28,
   "id": "21f2abba-6675-4e81-9a88-33a4c2a9d82c",
   "metadata": {},
   "outputs": [
    {
     "data": {
      "application/vnd.jupyter.widget-view+json": {
       "model_id": "5888e8f956c64bc3983a96bcaa22dfea",
       "version_major": 2,
       "version_minor": 0
      },
      "text/plain": [
       "Processing text1:   0%|          | 0/3078 [00:00<?, ?it/s]"
      ]
     },
     "metadata": {},
     "output_type": "display_data"
    },
    {
     "data": {
      "application/vnd.jupyter.widget-view+json": {
       "model_id": "0d145498ac1a42b6b96b7926d9a4756e",
       "version_major": 2,
       "version_minor": 0
      },
      "text/plain": [
       "Processing text2:   0%|          | 0/3078 [00:00<?, ?it/s]"
      ]
     },
     "metadata": {},
     "output_type": "display_data"
    }
   ],
   "source": [
    "# processed_chunk_5 = preprocess_function(eval_chunks[4])"
   ]
  },
  {
   "cell_type": "code",
   "execution_count": 29,
   "id": "88cfd486-9723-445e-8b9a-e5bb88405697",
   "metadata": {},
   "outputs": [
    {
     "data": {
      "application/vnd.jupyter.widget-view+json": {
       "model_id": "01447db21ff848a28ad19b5a7db007b6",
       "version_major": 2,
       "version_minor": 0
      },
      "text/plain": [
       "Processing text1:   0%|          | 0/3078 [00:00<?, ?it/s]"
      ]
     },
     "metadata": {},
     "output_type": "display_data"
    },
    {
     "data": {
      "application/vnd.jupyter.widget-view+json": {
       "model_id": "f110d511317e4456b0dabd6805d4b365",
       "version_major": 2,
       "version_minor": 0
      },
      "text/plain": [
       "Processing text2:   0%|          | 0/3078 [00:00<?, ?it/s]"
      ]
     },
     "metadata": {},
     "output_type": "display_data"
    }
   ],
   "source": [
    "# processed_chunk_6 = preprocess_function(eval_chunks[5])"
   ]
  },
  {
   "cell_type": "code",
   "execution_count": 30,
   "id": "abca8440-8201-4dec-8b5b-6aaf8228c0de",
   "metadata": {},
   "outputs": [
    {
     "data": {
      "application/vnd.jupyter.widget-view+json": {
       "model_id": "38aad2f15f534cd593932cb75ff90a1c",
       "version_major": 2,
       "version_minor": 0
      },
      "text/plain": [
       "Processing text1:   0%|          | 0/3078 [00:00<?, ?it/s]"
      ]
     },
     "metadata": {},
     "output_type": "display_data"
    },
    {
     "data": {
      "application/vnd.jupyter.widget-view+json": {
       "model_id": "14ef88402064465aba26805a38dd6aea",
       "version_major": 2,
       "version_minor": 0
      },
      "text/plain": [
       "Processing text2:   0%|          | 0/3078 [00:00<?, ?it/s]"
      ]
     },
     "metadata": {},
     "output_type": "display_data"
    }
   ],
   "source": [
    "# processed_chunk_7 = preprocess_function(eval_chunks[6])"
   ]
  },
  {
   "cell_type": "code",
   "execution_count": null,
   "id": "5ff1af93-0d19-4c2d-b524-7af3d545f02c",
   "metadata": {},
   "outputs": [
    {
     "data": {
      "application/vnd.jupyter.widget-view+json": {
       "model_id": "120c1b72d45843248eef3d77c681d958",
       "version_major": 2,
       "version_minor": 0
      },
      "text/plain": [
       "Processing text1:   0%|          | 0/3078 [00:00<?, ?it/s]"
      ]
     },
     "metadata": {},
     "output_type": "display_data"
    },
    {
     "name": "stderr",
     "output_type": "stream",
     "text": [
      "IOPub message rate exceeded.\n",
      "The Jupyter server will temporarily stop sending output\n",
      "to the client in order to avoid crashing it.\n",
      "To change this limit, set the config variable\n",
      "`--ServerApp.iopub_msg_rate_limit`.\n",
      "\n",
      "Current values:\n",
      "ServerApp.iopub_msg_rate_limit=1000.0 (msgs/sec)\n",
      "ServerApp.rate_limit_window=3.0 (secs)\n",
      "\n",
      "IOPub message rate exceeded.\n",
      "The Jupyter server will temporarily stop sending output\n",
      "to the client in order to avoid crashing it.\n",
      "To change this limit, set the config variable\n",
      "`--ServerApp.iopub_msg_rate_limit`.\n",
      "\n",
      "Current values:\n",
      "ServerApp.iopub_msg_rate_limit=1000.0 (msgs/sec)\n",
      "ServerApp.rate_limit_window=3.0 (secs)\n",
      "\n"
     ]
    }
   ],
   "source": [
    "# processed_chunk_8 = preprocess_function(eval_chunks[7])"
   ]
  },
  {
   "cell_type": "code",
   "execution_count": 43,
   "id": "1a211a92-94a6-4cbe-882c-2a0622f808ca",
   "metadata": {},
   "outputs": [],
   "source": [
    "# Recombine the processed chunks into one dataset\n",
    "def combine_chunks(chunks):\n",
    "    combined = {'text1': [], 'text2': [], 'score': []}\n",
    "    for chunk in chunks:\n",
    "        combined['text1'].extend(chunk['text1'])\n",
    "        combined['text2'].extend(chunk['text2'])\n",
    "        combined['score'].extend(chunk['score'])\n",
    "    return combined\n",
    "\n",
    "processed_chunks = [\n",
    "    processed_chunk_1,\n",
    "    processed_chunk_2,\n",
    "    processed_chunk_3,\n",
    "    processed_chunk_4,\n",
    "    processed_chunk_5,\n",
    "    processed_chunk_6,\n",
    "    processed_chunk_7,\n",
    "    processed_chunk_8,\n",
    "    processed_chunk_9,\n",
    "    processed_chunk_10\n",
    "]\n",
    "\n",
    "# processed_eval = combine_chunks(processed_chunks)"
   ]
  },
  {
   "cell_type": "code",
   "execution_count": 50,
   "id": "0e714298-7f91-470c-8e46-2df37010819b",
   "metadata": {},
   "outputs": [],
   "source": [
    "# with open('processed_eval.pkl', 'wb') as f:\n",
    "#     pickle.dump(processed_eval, f)"
   ]
  },
  {
   "cell_type": "code",
   "execution_count": 10,
   "id": "029f3ca8-b955-4f74-8f8c-949be5b48d78",
   "metadata": {},
   "outputs": [],
   "source": [
    "train_chunks = split_into_chunks(train, 10)"
   ]
  },
  {
   "cell_type": "code",
   "execution_count": 10,
   "id": "40328209-638b-4509-b509-2d2a61371ff4",
   "metadata": {},
   "outputs": [],
   "source": [
    "with open('trainchunk8.pkl', 'wb') as f:\n",
    "    pickle.dump(processed_chunk_9, f)"
   ]
  },
  {
   "cell_type": "code",
   "execution_count": null,
   "id": "aaf0d25a-3567-496c-baa3-bb17f6edeb07",
   "metadata": {},
   "outputs": [
    {
     "data": {
      "application/vnd.jupyter.widget-view+json": {
       "model_id": "59f310eac631433aae4e5a2329779ceb",
       "version_major": 2,
       "version_minor": 0
      },
      "text/plain": [
       "Processing text1:   0%|          | 0/32528 [00:00<?, ?it/s]"
      ]
     },
     "metadata": {},
     "output_type": "display_data"
    },
    {
     "name": "stderr",
     "output_type": "stream",
     "text": [
      "IOPub message rate exceeded.\n",
      "The Jupyter server will temporarily stop sending output\n",
      "to the client in order to avoid crashing it.\n",
      "To change this limit, set the config variable\n",
      "`--ServerApp.iopub_msg_rate_limit`.\n",
      "\n",
      "Current values:\n",
      "ServerApp.iopub_msg_rate_limit=1000.0 (msgs/sec)\n",
      "ServerApp.rate_limit_window=3.0 (secs)\n",
      "\n"
     ]
    },
    {
     "data": {
      "application/vnd.jupyter.widget-view+json": {
       "model_id": "016221d937204bd3940a8a92b2073fe7",
       "version_major": 2,
       "version_minor": 0
      },
      "text/plain": [
       "Processing text2:   0%|          | 0/32528 [00:00<?, ?it/s]"
      ]
     },
     "metadata": {},
     "output_type": "display_data"
    }
   ],
   "source": [
    "processed_chunk_7 = preprocess_function(train_chunks[6])"
   ]
  },
  {
   "cell_type": "code",
   "execution_count": null,
   "id": "535b82e3-d77f-46e0-9f7d-1077662ab005",
   "metadata": {},
   "outputs": [],
   "source": [
    "with open('trainchunk6.pkl', 'wb') as f:\n",
    "    pickle.dump(processed_chunk_7, f)"
   ]
  },
  {
   "cell_type": "code",
   "execution_count": null,
   "id": "46bb1f48-b285-4f45-8737-272048d4d740",
   "metadata": {},
   "outputs": [],
   "source": [
    "print(1)"
   ]
  }
 ],
 "metadata": {
  "kernelspec": {
   "display_name": "Python 3 (ipykernel)",
   "language": "python",
   "name": "python3"
  },
  "language_info": {
   "codemirror_mode": {
    "name": "ipython",
    "version": 3
   },
   "file_extension": ".py",
   "mimetype": "text/x-python",
   "name": "python",
   "nbconvert_exporter": "python",
   "pygments_lexer": "ipython3",
   "version": "3.10.12"
  }
 },
 "nbformat": 4,
 "nbformat_minor": 5
}
